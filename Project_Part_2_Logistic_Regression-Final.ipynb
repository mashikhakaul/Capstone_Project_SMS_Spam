{
 "cells": [
  {
   "cell_type": "markdown",
   "metadata": {
    "collapsed": true
   },
   "source": [
    "# Machine Learning approach\n",
    "\n",
    "To meet the objective we need to select a model that fits the data properly.\n",
    "Following are the steps that will be applied:\n",
    "\n",
    "*To arrange the dataset into training set and testing set.Size of out-of-sample data is 40% of the dataset.\n",
    "\n",
    "*To measure different evaluation metrics inorder to identify the best model.\n",
    "\n",
    "*Model evaluation by calclating accuracy and mean-squared error.\n",
    "\n",
    "*To predict the probability of a random data set.\n",
    " \n",
    "\n",
    "\n"
   ]
  },
  {
   "cell_type": "code",
   "execution_count": 103,
   "metadata": {
    "collapsed": true
   },
   "outputs": [],
   "source": [
    "#Importing libraries\n",
    "import numpy as np\n",
    "import pandas as pd\n",
    "import statsmodels.api as sm\n",
    "import matplotlib.pyplot as plt\n",
    "from patsy import dmatrices\n",
    "from sklearn.linear_model import LogisticRegression\n",
    "from sklearn import svm\n",
    "from sklearn.cross_validation import train_test_split\n",
    "from sklearn.metrics import mean_squared_error"
   ]
  },
  {
   "cell_type": "code",
   "execution_count": 104,
   "metadata": {
    "collapsed": false
   },
   "outputs": [
    {
     "name": "stdout",
     "output_type": "stream",
     "text": [
      "   Type                                            Message  Length  Exclaim  \\\n",
      "0     0  @@.comGo until jurong point  crazy.. Available...     117        0   \n",
      "1     0                      Ok lar... Joking wif u oni...      29        0   \n",
      "2     1  Free entry in 2 a wkly comp to win FA Cup fina...     155        0   \n",
      "3     0  U dun say so early hor... U c already then say...      49        0   \n",
      "4     0  Nah I don't think he goes to usf  he lives aro...      61        0   \n",
      "\n",
      "   Link  Has_large_number  Uppercase_letters  \n",
      "0     0                 0                  3  \n",
      "1     0                 0                  2  \n",
      "2     0                 1                 10  \n",
      "3     0                 0                  2  \n",
      "4     0                 0                  2  \n"
     ]
    }
   ],
   "source": [
    "#Loading data set\n",
    "data = pd.read_csv(\"SMS_Final_dataset.csv\",index_col=0)\n",
    "print data.head()\n"
   ]
  },
  {
   "cell_type": "code",
   "execution_count": 105,
   "metadata": {
    "collapsed": false
   },
   "outputs": [
    {
     "name": "stdout",
     "output_type": "stream",
     "text": [
      "              Type       Length      Exclaim         Link  Has_large_number  \\\n",
      "count  5081.000000  5081.000000  5081.000000  5081.000000       5081.000000   \n",
      "mean      0.135603    80.865578     0.254281     0.003739          0.108050   \n",
      "std       0.342400    60.191602     0.701442     0.061042          0.310474   \n",
      "min       0.000000     2.000000     0.000000     0.000000          0.000000   \n",
      "25%       0.000000    36.000000     0.000000     0.000000          0.000000   \n",
      "50%       0.000000    62.000000     0.000000     0.000000          0.000000   \n",
      "75%       0.000000   124.000000     0.000000     0.000000          0.000000   \n",
      "max       1.000000   910.000000    11.000000     1.000000          1.000000   \n",
      "\n",
      "       Uppercase_letters  \n",
      "count        5081.000000  \n",
      "mean            5.645345  \n",
      "std            11.673806  \n",
      "min             0.000000  \n",
      "25%             1.000000  \n",
      "50%             2.000000  \n",
      "75%             4.000000  \n",
      "max           129.000000  \n"
     ]
    }
   ],
   "source": [
    "#Data Exploration\n",
    "print data.describe()"
   ]
  },
  {
   "cell_type": "code",
   "execution_count": 106,
   "metadata": {
    "collapsed": false,
    "scrolled": true
   },
   "outputs": [
    {
     "data": {
      "text/html": [
       "<div>\n",
       "<table border=\"1\" class=\"dataframe\">\n",
       "  <thead>\n",
       "    <tr style=\"text-align: right;\">\n",
       "      <th></th>\n",
       "      <th>Type</th>\n",
       "      <th>Length</th>\n",
       "      <th>Exclaim</th>\n",
       "      <th>Link</th>\n",
       "      <th>Has_large_number</th>\n",
       "      <th>Uppercase_letters</th>\n",
       "    </tr>\n",
       "  </thead>\n",
       "  <tbody>\n",
       "    <tr>\n",
       "      <th>Type</th>\n",
       "      <td>1.000000</td>\n",
       "      <td>0.383561</td>\n",
       "      <td>0.271129</td>\n",
       "      <td>0.154681</td>\n",
       "      <td>0.869486</td>\n",
       "      <td>0.333624</td>\n",
       "    </tr>\n",
       "    <tr>\n",
       "      <th>Length</th>\n",
       "      <td>0.383561</td>\n",
       "      <td>1.000000</td>\n",
       "      <td>0.270086</td>\n",
       "      <td>0.053070</td>\n",
       "      <td>0.351609</td>\n",
       "      <td>0.383414</td>\n",
       "    </tr>\n",
       "    <tr>\n",
       "      <th>Exclaim</th>\n",
       "      <td>0.271129</td>\n",
       "      <td>0.270086</td>\n",
       "      <td>1.000000</td>\n",
       "      <td>0.037555</td>\n",
       "      <td>0.261588</td>\n",
       "      <td>0.289733</td>\n",
       "    </tr>\n",
       "    <tr>\n",
       "      <th>Link</th>\n",
       "      <td>0.154681</td>\n",
       "      <td>0.053070</td>\n",
       "      <td>0.037555</td>\n",
       "      <td>1.000000</td>\n",
       "      <td>0.040997</td>\n",
       "      <td>0.052138</td>\n",
       "    </tr>\n",
       "    <tr>\n",
       "      <th>Has_large_number</th>\n",
       "      <td>0.869486</td>\n",
       "      <td>0.351609</td>\n",
       "      <td>0.261588</td>\n",
       "      <td>0.040997</td>\n",
       "      <td>1.000000</td>\n",
       "      <td>0.300006</td>\n",
       "    </tr>\n",
       "    <tr>\n",
       "      <th>Uppercase_letters</th>\n",
       "      <td>0.333624</td>\n",
       "      <td>0.383414</td>\n",
       "      <td>0.289733</td>\n",
       "      <td>0.052138</td>\n",
       "      <td>0.300006</td>\n",
       "      <td>1.000000</td>\n",
       "    </tr>\n",
       "  </tbody>\n",
       "</table>\n",
       "</div>"
      ],
      "text/plain": [
       "                       Type    Length   Exclaim      Link  Has_large_number  \\\n",
       "Type               1.000000  0.383561  0.271129  0.154681          0.869486   \n",
       "Length             0.383561  1.000000  0.270086  0.053070          0.351609   \n",
       "Exclaim            0.271129  0.270086  1.000000  0.037555          0.261588   \n",
       "Link               0.154681  0.053070  0.037555  1.000000          0.040997   \n",
       "Has_large_number   0.869486  0.351609  0.261588  0.040997          1.000000   \n",
       "Uppercase_letters  0.333624  0.383414  0.289733  0.052138          0.300006   \n",
       "\n",
       "                   Uppercase_letters  \n",
       "Type                        0.333624  \n",
       "Length                      0.383414  \n",
       "Exclaim                     0.289733  \n",
       "Link                        0.052138  \n",
       "Has_large_number            0.300006  \n",
       "Uppercase_letters           1.000000  "
      ]
     },
     "execution_count": 106,
     "metadata": {},
     "output_type": "execute_result"
    }
   ],
   "source": [
    "#Pairwise correlation of dataFrame columns\n",
    "data.corr()\n"
   ]
  },
  {
   "cell_type": "markdown",
   "metadata": {},
   "source": [
    "From the correlation matrix above, all the correlation values are above 0.01, hence all variables will have influence on the outcome. As a result all the variables will be considered in the statistical approach."
   ]
  },
  {
   "cell_type": "code",
   "execution_count": 107,
   "metadata": {
    "collapsed": false
   },
   "outputs": [
    {
     "name": "stdout",
     "output_type": "stream",
     "text": [
      "          Length   Exclaim      Link  Has_large_number  Uppercase_letters\n",
      "Type                                                                     \n",
      "0      71.722222  0.178962  0.000000          0.001138           4.102914\n",
      "1     139.149492  0.734398  0.027576          0.789550          15.477504\n"
     ]
    }
   ],
   "source": [
    "print(data.groupby('Type').mean())"
   ]
  },
  {
   "cell_type": "code",
   "execution_count": 108,
   "metadata": {
    "collapsed": false
   },
   "outputs": [
    {
     "data": {
      "image/png": "[encoded data removed]",
      "text/plain": [
       "<matplotlib.figure.Figure at 0xd7b7a90>"
      ]
     },
     "metadata": {},
     "output_type": "display_data"
    }
   ],
   "source": [
    "from pandas.tools.plotting import scatter_matrix\n",
    "%matplotlib inline\n",
    "X1 = data[['Length','Exclaim','Link','Has_large_number','Uppercase_letters']]\n",
    "ax = scatter_matrix(X1, alpha=0.2,figsize=(10,10), diagonal='hist')"
   ]
  },
  {
   "cell_type": "markdown",
   "metadata": {},
   "source": [
    "# Model selection\n",
    "\n",
    "This project has used supervised learning approach. Classifiers used:\n",
    "\n",
    "*Logistic regression\n",
    "\n",
    "*Support vector classifier\n",
    "\n",
    "\n"
   ]
  },
  {
   "cell_type": "code",
   "execution_count": 109,
   "metadata": {
    "collapsed": false
   },
   "outputs": [
    {
     "name": "stdout",
     "output_type": "stream",
     "text": [
      "Index([u'Intercept', u'Length', u'Exclaim', u'Link', u'Has_large_number',\n",
      "       u'Uppercase_letters'],\n",
      "      dtype='object')\n",
      "      Intercept  Length  Exclaim  Link  Has_large_number  Uppercase_letters\n",
      "0           1.0   117.0      0.0   0.0               0.0                3.0\n",
      "1           1.0    29.0      0.0   0.0               0.0                2.0\n",
      "2           1.0   155.0      0.0   0.0               1.0               10.0\n",
      "3           1.0    49.0      0.0   0.0               0.0                2.0\n",
      "4           1.0    61.0      0.0   0.0               0.0                2.0\n",
      "5           1.0   148.0      2.0   0.0               0.0                7.0\n",
      "6           1.0    77.0      0.0   0.0               0.0                2.0\n",
      "7           1.0   160.0      0.0   0.0               0.0               10.0\n",
      "8           1.0   158.0      3.0   0.0               1.0               12.0\n",
      "9           1.0   154.0      1.0   0.0               1.0               14.0\n",
      "10          1.0   109.0      0.0   0.0               0.0                2.0\n",
      "11          1.0   136.0      1.0   0.0               1.0               17.0\n",
      "12          1.0   156.0      2.0   0.0               1.0               40.0\n",
      "13          1.0   196.0      0.0   0.0               0.0                3.0\n",
      "14          1.0    35.0      2.0   0.0               0.0               26.0\n",
      "15          1.0   149.0      0.0   1.0               0.0               23.0\n",
      "16          1.0    26.0      0.0   0.0               0.0                1.0\n",
      "17          1.0    81.0      0.0   0.0               0.0                3.0\n",
      "18          1.0    58.0      0.0   0.0               0.0                2.0\n",
      "19          1.0   156.0      0.0   0.0               1.0               32.0\n",
      "20          1.0    41.0      0.0   0.0               0.0                1.0\n",
      "21          1.0    49.0      0.0   0.0               0.0                1.0\n",
      "22          1.0    53.0      0.0   0.0               0.0                2.0\n",
      "23          1.0    88.0      0.0   0.0               0.0                3.0\n",
      "24          1.0    57.0      0.0   0.0               0.0                3.0\n",
      "25          1.0   144.0      0.0   0.0               0.0                8.0\n",
      "26          1.0    30.0      0.0   0.0               0.0                1.0\n",
      "27          1.0   134.0      0.0   0.0               0.0                6.0\n",
      "28          1.0    75.0      0.0   0.0               0.0                2.0\n",
      "29          1.0    64.0      1.0   0.0               0.0                5.0\n",
      "...         ...     ...      ...   ...               ...                ...\n",
      "5051        1.0    38.0      0.0   0.0               0.0                2.0\n",
      "5052        1.0    46.0      0.0   0.0               0.0                2.0\n",
      "5053        1.0   153.0      2.0   0.0               1.0               30.0\n",
      "5054        1.0    29.0      0.0   0.0               0.0                1.0\n",
      "5055        1.0   121.0      0.0   0.0               0.0               88.0\n",
      "5056        1.0    33.0      1.0   0.0               0.0                1.0\n",
      "5057        1.0    42.0      0.0   0.0               0.0                0.0\n",
      "5058        1.0    89.0      0.0   0.0               0.0                3.0\n",
      "5059        1.0    74.0      0.0   0.0               0.0                2.0\n",
      "5060        1.0   135.0      1.0   0.0               1.0               17.0\n",
      "5061        1.0    71.0      0.0   0.0               0.0                2.0\n",
      "5062        1.0    45.0      0.0   0.0               0.0                1.0\n",
      "5063        1.0    37.0      0.0   0.0               0.0                1.0\n",
      "5064        1.0   136.0      1.0   0.0               1.0               17.0\n",
      "5065        1.0    33.0      0.0   0.0               0.0                1.0\n",
      "5066        1.0    54.0      0.0   0.0               0.0                2.0\n",
      "5067        1.0    69.0      0.0   0.0               0.0                9.0\n",
      "5068        1.0    43.0      0.0   0.0               0.0                1.0\n",
      "5069        1.0    81.0      0.0   0.0               0.0                2.0\n",
      "5070        1.0    53.0      0.0   0.0               0.0                1.0\n",
      "5071        1.0    76.0      0.0   0.0               0.0                2.0\n",
      "5072        1.0    22.0      0.0   0.0               0.0                1.0\n",
      "5073        1.0    27.0      0.0   0.0               0.0                2.0\n",
      "5074        1.0   109.0      0.0   0.0               0.0                1.0\n",
      "5075        1.0    12.0      0.0   0.0               0.0                1.0\n",
      "5076        1.0    44.0      2.0   0.0               0.0                1.0\n",
      "5077        1.0    58.0      2.0   0.0               0.0                2.0\n",
      "5078        1.0     5.0      0.0   0.0               0.0                1.0\n",
      "5079        1.0   121.0      0.0   0.0               0.0                2.0\n",
      "5080        1.0   152.0      0.0   0.0               0.0                9.0\n",
      "\n",
      "[5081 rows x 6 columns]\n",
      "      Type\n",
      "0      0.0\n",
      "1      0.0\n",
      "2      1.0\n",
      "3      0.0\n",
      "4      0.0\n",
      "5      1.0\n",
      "6      0.0\n",
      "7      0.0\n",
      "8      1.0\n",
      "9      1.0\n",
      "10     0.0\n",
      "11     1.0\n",
      "12     1.0\n",
      "13     0.0\n",
      "14     0.0\n",
      "15     1.0\n",
      "16     0.0\n",
      "17     0.0\n",
      "18     0.0\n",
      "19     1.0\n",
      "20     0.0\n",
      "21     0.0\n",
      "22     0.0\n",
      "23     0.0\n",
      "24     0.0\n",
      "25     0.0\n",
      "26     0.0\n",
      "27     0.0\n",
      "28     0.0\n",
      "29     0.0\n",
      "...    ...\n",
      "5051   0.0\n",
      "5052   0.0\n",
      "5053   1.0\n",
      "5054   0.0\n",
      "5055   0.0\n",
      "5056   0.0\n",
      "5057   0.0\n",
      "5058   0.0\n",
      "5059   0.0\n",
      "5060   1.0\n",
      "5061   0.0\n",
      "5062   0.0\n",
      "5063   0.0\n",
      "5064   1.0\n",
      "5065   0.0\n",
      "5066   0.0\n",
      "5067   0.0\n",
      "5068   0.0\n",
      "5069   0.0\n",
      "5070   0.0\n",
      "5071   0.0\n",
      "5072   0.0\n",
      "5073   0.0\n",
      "5074   0.0\n",
      "5075   0.0\n",
      "5076   0.0\n",
      "5077   0.0\n",
      "5078   0.0\n",
      "5079   0.0\n",
      "5080   0.0\n",
      "\n",
      "[5081 rows x 1 columns]\n"
     ]
    }
   ],
   "source": [
    "\n",
    "y, X = dmatrices('Type ~ Length + Exclaim + Link + Has_large_number + Uppercase_letters',data, return_type=\"dataframe\")\n",
    "print X.columns\n",
    "print X\n",
    "print y"
   ]
  },
  {
   "cell_type": "code",
   "execution_count": 110,
   "metadata": {
    "collapsed": false
   },
   "outputs": [
    {
     "name": "stdout",
     "output_type": "stream",
     "text": [
      "[ 0.  0.  1. ...,  0.  0.  0.]\n"
     ]
    }
   ],
   "source": [
    "#Flatten y into a 1-D array\n",
    "y = np.ravel(y)\n",
    "print y\n"
   ]
  },
  {
   "cell_type": "markdown",
   "metadata": {},
   "source": [
    "# Logistic regression"
   ]
  },
  {
   "cell_type": "code",
   "execution_count": 111,
   "metadata": {
    "collapsed": false
   },
   "outputs": [
    {
     "name": "stdout",
     "output_type": "stream",
     "text": [
      "Score: 0.97165912222\n"
     ]
    },
    {
     "data": {
      "text/html": [
       "<div>\n",
       "<table border=\"1\" class=\"dataframe\">\n",
       "  <thead>\n",
       "    <tr style=\"text-align: right;\">\n",
       "      <th></th>\n",
       "      <th>0</th>\n",
       "      <th>1</th>\n",
       "    </tr>\n",
       "  </thead>\n",
       "  <tbody>\n",
       "    <tr>\n",
       "      <th>0</th>\n",
       "      <td>Intercept</td>\n",
       "      <td>[-2.10078776252]</td>\n",
       "    </tr>\n",
       "    <tr>\n",
       "      <th>1</th>\n",
       "      <td>Length</td>\n",
       "      <td>[0.00642710474009]</td>\n",
       "    </tr>\n",
       "    <tr>\n",
       "      <th>2</th>\n",
       "      <td>Exclaim</td>\n",
       "      <td>[0.221861311879]</td>\n",
       "    </tr>\n",
       "    <tr>\n",
       "      <th>3</th>\n",
       "      <td>Link</td>\n",
       "      <td>[3.72023608646]</td>\n",
       "    </tr>\n",
       "    <tr>\n",
       "      <th>4</th>\n",
       "      <td>Has_large_number</td>\n",
       "      <td>[6.71024273324]</td>\n",
       "    </tr>\n",
       "    <tr>\n",
       "      <th>5</th>\n",
       "      <td>Uppercase_letters</td>\n",
       "      <td>[0.018950443822]</td>\n",
       "    </tr>\n",
       "  </tbody>\n",
       "</table>\n",
       "</div>"
      ],
      "text/plain": [
       "                   0                   1\n",
       "0          Intercept    [-2.10078776252]\n",
       "1             Length  [0.00642710474009]\n",
       "2            Exclaim    [0.221861311879]\n",
       "3               Link     [3.72023608646]\n",
       "4   Has_large_number     [6.71024273324]\n",
       "5  Uppercase_letters    [0.018950443822]"
      ]
     },
     "execution_count": 111,
     "metadata": {},
     "output_type": "execute_result"
    }
   ],
   "source": [
    "#Instantiate a logistic regression model, and fit with X and y\n",
    "model = LogisticRegression()\n",
    "model = model.fit(X, y)\n",
    "\n",
    "#Check the score on the training set\n",
    "print 'Score:',model.score(X, y)\n",
    "\n",
    "#Examine the coefficients\n",
    "pd.DataFrame(zip(X.columns, np.transpose(model.coef_)))"
   ]
  },
  {
   "cell_type": "markdown",
   "metadata": {},
   "source": [
    "Evaluating the performance of a model by training and testing on the same dataset can lead to overfitting.Hence below model evaluation is based on splitting the dataset into train and validation set. We have sampled a training set while holding out 40% of the data for testing (evaluating) our classifier."
   ]
  },
  {
   "cell_type": "code",
   "execution_count": 112,
   "metadata": {
    "collapsed": false
   },
   "outputs": [
    {
     "name": "stdout",
     "output_type": "stream",
     "text": [
      "Grid Scores : {'C': 10}\n",
      "Best Score :  0.969816272966\n",
      "Best Parameters : {'C': 10}\n",
      "Best Estimator : LogisticRegression(C=10, class_weight=None, dual=False, fit_intercept=True,\n",
      "          intercept_scaling=1, max_iter=100, multi_class='ovr', n_jobs=1,\n",
      "          penalty='l2', random_state=None, solver='liblinear', tol=0.0001,\n",
      "          verbose=0, warm_start=False)\n",
      "Accuracy Score : 0.971962616822\n",
      "Coefficients : [[-2.17892318  0.00861871  0.21550429  5.04082872  7.91937265  0.01826863]]\n",
      "Mean-squared error 0.167443671656\n"
     ]
    }
   ],
   "source": [
    "X_train, X_test,y_train,y_test = train_test_split(X,y,test_size = 0.4,random_state = 1234)\n",
    "from sklearn.grid_search import GridSearchCV\n",
    "from sklearn.linear_model import LogisticRegression\n",
    "from sklearn.metrics import accuracy_score\n",
    "\n",
    "logreg = LogisticRegression()\n",
    "param_grid = {'C': [0.001, 0.01, 0.1, 1, 10, 100] }\n",
    "grid = GridSearchCV(logreg,param_grid,cv = 3,scoring = 'accuracy')\n",
    "grid.fit(X_train,y_train)\n",
    "\n",
    "print 'Grid Scores :',(grid.best_params_)\n",
    "print'Best Score : ',(grid.best_score_)\n",
    "print 'Best Parameters :',(grid.best_params_)\n",
    "print'Best Estimator :',(grid.best_estimator_)\n",
    "\n",
    "C_best_score = grid.best_score_\n",
    "clf_best = LogisticRegression(C = C_best_score)\n",
    "clf_best.fit(X_train,y_train)\n",
    "print 'Accuracy Score :', accuracy_score(clf_best.predict(X_test),y_test)\n",
    "print 'Coefficients :',grid.best_estimator_.coef_ \n",
    "mse = mean_squared_error(y_test, clf_best.predict(X_test))\n",
    "rmse = np.sqrt(mse)\n",
    "print 'Mean-squared error', rmse"
   ]
  },
  {
   "cell_type": "code",
   "execution_count": 113,
   "metadata": {
    "collapsed": false
   },
   "outputs": [
    {
     "name": "stdout",
     "output_type": "stream",
     "text": [
      "Probability : [[ 0.98598331  0.01401669]]\n"
     ]
    },
    {
     "name": "stderr",
     "output_type": "stream",
     "text": [
      "C:\\Anaconda2\\lib\\site-packages\\sklearn\\utils\\validation.py:386: DeprecationWarning: Passing 1d arrays as data is deprecated in 0.17 and willraise ValueError in 0.19. Reshape your data either using X.reshape(-1, 1) if your data has a single feature or X.reshape(1, -1) if it contains a single sample.\n",
      "  DeprecationWarning)\n"
     ]
    }
   ],
   "source": [
    "#Predicting probability of random data set being spam or ham.\n",
    "print 'Probability :',grid.predict_proba([1,10,0,0,0,1])"
   ]
  },
  {
   "cell_type": "code",
   "execution_count": 114,
   "metadata": {
    "collapsed": false
   },
   "outputs": [
    {
     "name": "stdout",
     "output_type": "stream",
     "text": [
      "Warning: Maximum number of iterations has been exceeded.\n",
      "         Current function value: 0.113600\n",
      "         Iterations: 35\n",
      "                           Logit Regression Results                           \n",
      "==============================================================================\n",
      "Dep. Variable:                      y   No. Observations:                 5081\n",
      "Model:                          Logit   Df Residuals:                     5075\n",
      "Method:                           MLE   Df Model:                            5\n",
      "Date:                Sat, 01 Oct 2016   Pseudo R-squ.:                  0.7138\n",
      "Time:                        16:22:32   Log-Likelihood:                -577.20\n",
      "converged:                      False   LL-Null:                       -2016.7\n",
      "                                        LLR p-value:                     0.000\n",
      "=====================================================================================\n",
      "                        coef    std err          z      P>|z|      [95.0% Conf. Int.]\n",
      "-------------------------------------------------------------------------------------\n",
      "Intercept            -4.2993      0.140    -30.807      0.000        -4.573    -4.026\n",
      "Length                0.0064      0.001      6.594      0.000         0.004     0.008\n",
      "Exclaim               0.2190      0.083      2.628      0.009         0.056     0.382\n",
      "Link                 22.7511   5348.253      0.004      0.997     -1.05e+04  1.05e+04\n",
      "Has_large_number      7.6763      0.459     16.712      0.000         6.776     8.577\n",
      "Uppercase_letters     0.0192      0.004      4.928      0.000         0.012     0.027\n",
      "=====================================================================================\n",
      "0.97165912222\n"
     ]
    },
    {
     "name": "stderr",
     "output_type": "stream",
     "text": [
      "C:\\Anaconda2\\lib\\site-packages\\statsmodels\\base\\model.py:466: ConvergenceWarning: Maximum Likelihood optimization failed to converge. Check mle_retvals\n",
      "  \"Check mle_retvals\", ConvergenceWarning)\n"
     ]
    }
   ],
   "source": [
    "#Applying statsmodels function to apply logistic regression\n",
    "\n",
    "logit = sm.Logit(y,X).fit()\n",
    "print(logit.summary())\n",
    "print(model.score(X, y))\n"
   ]
  },
  {
   "cell_type": "markdown",
   "metadata": {},
   "source": [
    "# Support Vector Classifer (SVC)"
   ]
  },
  {
   "cell_type": "code",
   "execution_count": 115,
   "metadata": {
    "collapsed": false
   },
   "outputs": [],
   "source": [
    "#Applying SVM on dataset\n",
    "X1 = X\n",
    "y1 = y\n",
    "X1_train, X1_test,y1_train,y1_test = train_test_split(X1,y1,test_size = 0.2,random_state = 1234)"
   ]
  },
  {
   "cell_type": "code",
   "execution_count": null,
   "metadata": {
    "collapsed": false
   },
   "outputs": [
    {
     "data": {
      "text/plain": [
       "SVC(C=1.0, cache_size=200, class_weight=None, coef0=0.0,\n",
       "  decision_function_shape=None, degree=3, gamma='auto', kernel='rbf',\n",
       "  max_iter=-1, probability=True, random_state=None, shrinking=True,\n",
       "  tol=0.001, verbose=False)"
      ]
     },
     "execution_count": 116,
     "metadata": {},
     "output_type": "execute_result"
    }
   ],
   "source": [
    "from sklearn.grid_search import GridSearchCV\n",
    "from sklearn import svm\n",
    "clf= svm.SVC(probability=True)\n",
    "clf.fit(X1_train, y1_train)"
   ]
  },
  {
   "cell_type": "code",
   "execution_count": null,
   "metadata": {
    "collapsed": false
   },
   "outputs": [],
   "source": [
    "param_grid = [{'C': [1, 10, 100, 1000], 'gamma': [0.001, 0.0001], 'kernel': ['rbf']},]\n",
    "grid = GridSearchCV(clf,param_grid,cv = 3,scoring = 'accuracy')\n",
    "grid.fit(X1_train,y1_train)"
   ]
  },
  {
   "cell_type": "code",
   "execution_count": null,
   "metadata": {
    "collapsed": false,
    "scrolled": true
   },
   "outputs": [],
   "source": [
    "print grid.fit(X_test,y_test)\n",
    "print'Best Score : ',(grid.best_score_)\n",
    "print 'Best Parameters :',(grid.best_params_)\n",
    "print'Best Estimator :',(grid.best_estimator_)\n",
    "y1_pred = grid.predict(X1_test)\n",
    "print y1_pred\n",
    "print y1_test\n",
    "print 'svc - accuracy score:',accuracy_score(y1_test, y1_pred)\n",
    "mse = mean_squared_error(y1_test, y1_pred)\n",
    "rmse = np.sqrt(mse)\n",
    "print 'Mean-squared error', rmse"
   ]
  },
  {
   "cell_type": "code",
   "execution_count": null,
   "metadata": {
    "collapsed": false
   },
   "outputs": [],
   "source": [
    "#Predicting probability of given data set being spam or ham.\n",
    "k = grid.predict_proba([1,10,0,0,0,1])\n",
    "print k"
   ]
  },
  {
   "cell_type": "markdown",
   "metadata": {},
   "source": [
    "# Result\n",
    "\n",
    "*The accuracy scores ranges between .971 and .979.\n",
    "\n",
    "*Mean squared error ranges between .143 and .167."
   ]
  }
 ],
 "metadata": {
  "anaconda-cloud": {},
  "kernelspec": {
   "display_name": "Python [Root]",
   "language": "python",
   "name": "Python [Root]"
  },
  "language_info": {
   "codemirror_mode": {
    "name": "ipython",
    "version": 2
   },
   "file_extension": ".py",
   "mimetype": "text/x-python",
   "name": "python",
   "nbconvert_exporter": "python",
   "pygments_lexer": "ipython2",
   "version": "2.7.11"
  }
 },
 "nbformat": 4,
 "nbformat_minor": 0
}
