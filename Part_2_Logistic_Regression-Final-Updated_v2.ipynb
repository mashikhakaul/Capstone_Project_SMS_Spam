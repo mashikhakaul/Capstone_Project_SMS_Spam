{
 "cells": [
  {
   "cell_type": "markdown",
   "metadata": {
    "collapsed": true
   },
   "source": [
    "# Machine Learning approach\n",
    "\n",
    "To meet the objective we need to select a model that fits the data properly.\n",
    "Following are the steps that will be applied:\n",
    "\n",
    "*To arrange the dataset into training set and testing set.Size of out-of-sample data is 40% of the dataset.\n",
    "\n",
    "*To measure different evaluation metrics inorder to identify the best model.\n",
    "\n",
    "*Model evaluation by calclating accuracy and mean-squared error.\n",
    "\n",
    "*To predict the probability of a random data set.\n",
    " \n",
    "\n",
    "\n"
   ]
  },
  {
   "cell_type": "code",
   "execution_count": 8,
   "metadata": {
    "collapsed": true
   },
   "outputs": [],
   "source": [
    "#Importing libraries\n",
    "import numpy as np\n",
    "import pandas as pd\n",
    "import statsmodels.api as sm\n",
    "import matplotlib.pyplot as plt\n",
    "from patsy import dmatrices\n",
    "from sklearn.linear_model import LogisticRegression\n",
    "from sklearn import svm\n",
    "from sklearn.cross_validation import train_test_split\n",
    "from sklearn.metrics import mean_squared_error\n",
    "from sklearn.metrics import classification_report\n",
    "from sklearn import preprocessing"
   ]
  },
  {
   "cell_type": "code",
   "execution_count": 9,
   "metadata": {
    "collapsed": false
   },
   "outputs": [
    {
     "name": "stdout",
     "output_type": "stream",
     "text": [
      "   Type                                            Message  Length  Exclaim  \\\n",
      "0     0  @@.comGo until jurong point  crazy.. Available...     117        0   \n",
      "1     0                      Ok lar... Joking wif u oni...      29        0   \n",
      "2     1  Free entry in 2 a wkly comp to win FA Cup fina...     155        0   \n",
      "3     0  U dun say so early hor... U c already then say...      49        0   \n",
      "4     0  Nah I don't think he goes to usf  he lives aro...      61        0   \n",
      "\n",
      "   Link  Has_large_number  Uppercase_letters  \n",
      "0     0                 0                  3  \n",
      "1     0                 0                  2  \n",
      "2     0                 1                 10  \n",
      "3     0                 0                  2  \n",
      "4     0                 0                  2  \n"
     ]
    }
   ],
   "source": [
    "#Loading data set\n",
    "data = pd.read_csv(\"SMS_Final_dataset.csv\",index_col=0)\n",
    "print data.head()\n"
   ]
  },
  {
   "cell_type": "code",
   "execution_count": 10,
   "metadata": {
    "collapsed": false
   },
   "outputs": [
    {
     "name": "stdout",
     "output_type": "stream",
     "text": [
      "              Type       Length      Exclaim         Link  Has_large_number  \\\n",
      "count  5081.000000  5081.000000  5081.000000  5081.000000       5081.000000   \n",
      "mean      0.135603    80.865578     0.254281     0.003739          0.108050   \n",
      "std       0.342400    60.191602     0.701442     0.061042          0.310474   \n",
      "min       0.000000     2.000000     0.000000     0.000000          0.000000   \n",
      "25%       0.000000    36.000000     0.000000     0.000000          0.000000   \n",
      "50%       0.000000    62.000000     0.000000     0.000000          0.000000   \n",
      "75%       0.000000   124.000000     0.000000     0.000000          0.000000   \n",
      "max       1.000000   910.000000    11.000000     1.000000          1.000000   \n",
      "\n",
      "       Uppercase_letters  \n",
      "count        5081.000000  \n",
      "mean            5.645345  \n",
      "std            11.673806  \n",
      "min             0.000000  \n",
      "25%             1.000000  \n",
      "50%             2.000000  \n",
      "75%             4.000000  \n",
      "max           129.000000  \n"
     ]
    }
   ],
   "source": [
    "#Data Exploration\n",
    "print data.describe()\n"
   ]
  },
  {
   "cell_type": "markdown",
   "metadata": {},
   "source": [
    "# Data set scaling\n",
    "\n",
    "Scaling is a method used to standardize the range of independent variables or features of data. In data processing, it is also known as data normalization and is generally performed during the data preprocessing step.In this data set we are scaling below columns and bringing their values range between 0 and 1. This will help in better analysis and correlation observation.\n",
    "\n",
    "* Length\n",
    "\n",
    "* Exclaim\n",
    "\n",
    "* Link\n",
    "\n",
    "* Has_large_number\n",
    "\n",
    "* Uppercase_letters"
   ]
  },
  {
   "cell_type": "code",
   "execution_count": 11,
   "metadata": {
    "collapsed": false
   },
   "outputs": [
    {
     "name": "stdout",
     "output_type": "stream",
     "text": [
      "      Type                                            Message    Length  \\\n",
      "0        0  @@.comGo until jurong point  crazy.. Available...  0.126652   \n",
      "1        0                      Ok lar... Joking wif u oni...  0.029736   \n",
      "2        1  Free entry in 2 a wkly comp to win FA Cup fina...  0.168502   \n",
      "3        0  U dun say so early hor... U c already then say...  0.051762   \n",
      "4        0  Nah I don't think he goes to usf  he lives aro...  0.064978   \n",
      "5        1  FreeMsg Hey there darling it's been 3 week's n...  0.160793   \n",
      "6        0  Even my brother is not like to speak with me. ...  0.082599   \n",
      "7        0  As per your request 'Melle Melle (Oru Minnamin...  0.174009   \n",
      "8        1  WINNER!! As a valued network customer you have...  0.171806   \n",
      "9        1  Had your mobile 11 months or more? U R entitle...  0.167401   \n",
      "10       0  I'm gonna be home soon and i don't want to tal...  0.117841   \n",
      "11       1  SIX chances to win CASH! From 100 to 20 000 po...  0.147577   \n",
      "12       1  URGENT! You have won a 1 week FREE membership ...  0.169604   \n",
      "13       0  I've been searching for the right words to tha...  0.213656   \n",
      "14       0                I HAVE A DATE ON SUNDAY WITH WILL!!  0.036344   \n",
      "15       1  XXXMobileMovieClub: To use your credit  click ...  0.161894   \n",
      "16       0                         Oh k...i'm watching here:)  0.026432   \n",
      "17       0  Eh u remember how 2 spell his name... Yes i di...  0.087004   \n",
      "18       0  Fine if thats the way u feel. Thats the way ...  0.061674   \n",
      "19       1  England v Macedonia - dont miss the goals/team...  0.169604   \n",
      "20       0          Is that seriously how you spell his name?  0.042952   \n",
      "21       0    I‘m going to try for 2 months ha ha only joking  0.051762   \n",
      "22       0  So ü pay first lar... Then when is da stock co...  0.056167   \n",
      "23       0  Aft i finish my lunch then i go str down lor. ...  0.094714   \n",
      "24       0  Ffffffffff. Alright no way I can meet up with ...  0.060573   \n",
      "25       0  Just forced myself to eat a slice. I'm really ...  0.156388   \n",
      "26       0                     Lol your always so convincing.  0.030837   \n",
      "27       0  Did you catch the bus ? Are you frying an egg ...  0.145374   \n",
      "28       0  I'm back &amp; we're packing the car now  I'll...  0.080396   \n",
      "29       0  Ahhh. Work. I vaguely remember that! What does...  0.068282   \n",
      "...    ...                                                ...       ...   \n",
      "5051     0             Po de :-):):-):-):-). No need job aha.  0.039648   \n",
      "5052     0     Rats. Hey did u ever vote for the next themes?  0.048458   \n",
      "5053     1  New Mobiles from 2004  MUST GO! Txt: NOKIA to ...  0.166300   \n",
      "5054     0                      I hope your pee burns tonite.  0.029736   \n",
      "5055     0  OH RITE. WELL IM WITH MY BEST MATE PETE  WHO I...  0.131057   \n",
      "5056     0                  Yay can't wait to party together!  0.034141   \n",
      "5057     0         ....photoshop makes my computer shut down.  0.044053   \n",
      "5058     0  All boys made fun of me today. Ok i have no pr...  0.095815   \n",
      "5059     0  That's one of the issues but california is oka...  0.079295   \n",
      "5060     1  PRIVATE! Your 2003 Account Statement for shows...  0.146476   \n",
      "5061     0  Hmmm.... Mayb can try e shoppin area one  but ...  0.075991   \n",
      "5062     0      Awesome  that gonna be soon or later tonight?  0.047357   \n",
      "5063     0              I need details about that online job.  0.038546   \n",
      "5064     1  YOU HAVE WON! As a valued Vodafone customer ou...  0.147577   \n",
      "5065     0                  Missing you too.pray inshah allah  0.034141   \n",
      "5066     0  Pls help me tell Ashley that i cant find her n...  0.057269   \n",
      "5067     0  I am in escape theatre now. . Going to watch K...  0.073789   \n",
      "5068     0        S.this will increase the chance of winning.  0.045154   \n",
      "5069     0  either way works for me. I am  &lt;#&gt;  year...  0.087004   \n",
      "5070     0  Maybe you should find something else to do ins...  0.056167   \n",
      "5071     0  Gain the rights of a wife.dont demand it.i am ...  0.081498   \n",
      "5072     0                             I liked your new house  0.022026   \n",
      "5073     0                        I'm fine. Hope you are also  0.027533   \n",
      "5074     0  Also north carolina and texas atm  you would j...  0.117841   \n",
      "5075     0                                       Same to u...  0.011013   \n",
      "5076     0       yes baby! I need to stretch open your pussy!  0.046256   \n",
      "5077     0  Thanks  and ! Or bomb and date as my phone wan...  0.061674   \n",
      "5078     0                                              Ok...  0.003304   \n",
      "5079     0  Hey  a guy I know is breathing down my neck to...  0.131057   \n",
      "5080     0  Response is one of d powerful weapon 2 occupy ...  0.165198   \n",
      "\n",
      "       Exclaim  Link  Has_large_number  Uppercase_letters  \n",
      "0     0.000000   0.0               0.0           0.023256  \n",
      "1     0.000000   0.0               0.0           0.015504  \n",
      "2     0.000000   0.0               1.0           0.077519  \n",
      "3     0.000000   0.0               0.0           0.015504  \n",
      "4     0.000000   0.0               0.0           0.015504  \n",
      "5     0.181818   0.0               0.0           0.054264  \n",
      "6     0.000000   0.0               0.0           0.015504  \n",
      "7     0.000000   0.0               0.0           0.077519  \n",
      "8     0.272727   0.0               1.0           0.093023  \n",
      "9     0.090909   0.0               1.0           0.108527  \n",
      "10    0.000000   0.0               0.0           0.015504  \n",
      "11    0.090909   0.0               1.0           0.131783  \n",
      "12    0.181818   0.0               1.0           0.310078  \n",
      "13    0.000000   0.0               0.0           0.023256  \n",
      "14    0.181818   0.0               0.0           0.201550  \n",
      "15    0.000000   1.0               0.0           0.178295  \n",
      "16    0.000000   0.0               0.0           0.007752  \n",
      "17    0.000000   0.0               0.0           0.023256  \n",
      "18    0.000000   0.0               0.0           0.015504  \n",
      "19    0.000000   0.0               1.0           0.248062  \n",
      "20    0.000000   0.0               0.0           0.007752  \n",
      "21    0.000000   0.0               0.0           0.007752  \n",
      "22    0.000000   0.0               0.0           0.015504  \n",
      "23    0.000000   0.0               0.0           0.023256  \n",
      "24    0.000000   0.0               0.0           0.023256  \n",
      "25    0.000000   0.0               0.0           0.062016  \n",
      "26    0.000000   0.0               0.0           0.007752  \n",
      "27    0.000000   0.0               0.0           0.046512  \n",
      "28    0.000000   0.0               0.0           0.015504  \n",
      "29    0.090909   0.0               0.0           0.038760  \n",
      "...        ...   ...               ...                ...  \n",
      "5051  0.000000   0.0               0.0           0.015504  \n",
      "5052  0.000000   0.0               0.0           0.015504  \n",
      "5053  0.181818   0.0               1.0           0.232558  \n",
      "5054  0.000000   0.0               0.0           0.007752  \n",
      "5055  0.000000   0.0               0.0           0.682171  \n",
      "5056  0.090909   0.0               0.0           0.007752  \n",
      "5057  0.000000   0.0               0.0           0.000000  \n",
      "5058  0.000000   0.0               0.0           0.023256  \n",
      "5059  0.000000   0.0               0.0           0.015504  \n",
      "5060  0.090909   0.0               1.0           0.131783  \n",
      "5061  0.000000   0.0               0.0           0.015504  \n",
      "5062  0.000000   0.0               0.0           0.007752  \n",
      "5063  0.000000   0.0               0.0           0.007752  \n",
      "5064  0.090909   0.0               1.0           0.131783  \n",
      "5065  0.000000   0.0               0.0           0.007752  \n",
      "5066  0.000000   0.0               0.0           0.015504  \n",
      "5067  0.000000   0.0               0.0           0.069767  \n",
      "5068  0.000000   0.0               0.0           0.007752  \n",
      "5069  0.000000   0.0               0.0           0.015504  \n",
      "5070  0.000000   0.0               0.0           0.007752  \n",
      "5071  0.000000   0.0               0.0           0.015504  \n",
      "5072  0.000000   0.0               0.0           0.007752  \n",
      "5073  0.000000   0.0               0.0           0.015504  \n",
      "5074  0.000000   0.0               0.0           0.007752  \n",
      "5075  0.000000   0.0               0.0           0.007752  \n",
      "5076  0.181818   0.0               0.0           0.007752  \n",
      "5077  0.181818   0.0               0.0           0.015504  \n",
      "5078  0.000000   0.0               0.0           0.007752  \n",
      "5079  0.000000   0.0               0.0           0.015504  \n",
      "5080  0.000000   0.0               0.0           0.069767  \n",
      "\n",
      "[5081 rows x 7 columns]\n"
     ]
    }
   ],
   "source": [
    "#Data scaling\n",
    "scaler = preprocessing.MinMaxScaler()\n",
    "min_max_scaler = preprocessing.MinMaxScaler()\n",
    "#function for scaling columns of dataset \n",
    "def scaleColumns(df, cols_to_scale):\n",
    "    for col in cols_to_scale:# iterating through columns of data set\n",
    "        df[col] = pd.DataFrame(min_max_scaler.fit_transform(pd.DataFrame(data[col])),columns=[col])\n",
    "    return df\n",
    "\n",
    "scaled_df = scaleColumns(data,['Length','Exclaim','Link','Has_large_number','Uppercase_letters'])\n",
    "print scaled_df\n",
    "\n",
    "\n"
   ]
  },
  {
   "cell_type": "markdown",
   "metadata": {},
   "source": [
    "Correlation : Checking the interdependence of variable quantities."
   ]
  },
  {
   "cell_type": "code",
   "execution_count": 87,
   "metadata": {
    "collapsed": false,
    "scrolled": true
   },
   "outputs": [
    {
     "name": "stdout",
     "output_type": "stream",
     "text": [
      "                       Type    Length   Exclaim      Link  Has_large_number  \\\n",
      "Type               1.000000  0.383561  0.271129  0.154681          0.869486   \n",
      "Length             0.383561  1.000000  0.270086  0.053070          0.351609   \n",
      "Exclaim            0.271129  0.270086  1.000000  0.037555          0.261588   \n",
      "Link               0.154681  0.053070  0.037555  1.000000          0.040997   \n",
      "Has_large_number   0.869486  0.351609  0.261588  0.040997          1.000000   \n",
      "Uppercase_letters  0.333624  0.383414  0.289733  0.052138          0.300006   \n",
      "\n",
      "                   Uppercase_letters  \n",
      "Type                        0.333624  \n",
      "Length                      0.383414  \n",
      "Exclaim                     0.289733  \n",
      "Link                        0.052138  \n",
      "Has_large_number            0.300006  \n",
      "Uppercase_letters           1.000000  \n"
     ]
    }
   ],
   "source": [
    "#Pairwise correlation of dataFrame columns\n",
    "#print data.corr()\n",
    "print scaled_df.corr()"
   ]
  },
  {
   "cell_type": "markdown",
   "metadata": {},
   "source": [
    "From the correlation matrix above, all the correlation values are above 0.01, hence all variables will have influence on the outcome. As a result all the variables will be considered in the statistical approach."
   ]
  },
  {
   "cell_type": "markdown",
   "metadata": {},
   "source": [
    "Finding the mean of different columns group by 'Type' column."
   ]
  },
  {
   "cell_type": "code",
   "execution_count": 13,
   "metadata": {
    "collapsed": false
   },
   "outputs": [
    {
     "name": "stdout",
     "output_type": "stream",
     "text": [
      "        Length   Exclaim      Link  Has_large_number  Uppercase_letters\n",
      "Type                                                                   \n",
      "0     0.076787  0.016269  0.000000          0.001138           0.031806\n",
      "1     0.151046  0.066763  0.027576          0.789550           0.119981\n"
     ]
    }
   ],
   "source": [
    "#Mean of clumns group by type of message\n",
    "print(scaled_df.groupby('Type').mean())"
   ]
  },
  {
   "cell_type": "markdown",
   "metadata": {},
   "source": [
    "# Scatter - Matrix\n",
    "\n",
    "The scatter matrix is a statistic that is used to make estimates of the covariance matrix for instance of the multivariate normal distribution."
   ]
  },
  {
   "cell_type": "code",
   "execution_count": 14,
   "metadata": {
    "collapsed": false
   },
   "outputs": [
    {
     "data": {
      "image/png": "[encoded data removed]",
      "text/plain": [
       "<matplotlib.figure.Figure at 0xbdb4fd0>"
      ]
     },
     "metadata": {},
     "output_type": "display_data"
    }
   ],
   "source": [
    "#Scatter matrix\n",
    "from pandas.tools.plotting import scatter_matrix\n",
    "%matplotlib inline\n",
    "X1 = scaled_df[['Length','Exclaim','Link','Has_large_number','Uppercase_letters']]\n",
    "ax = scatter_matrix(X1, alpha=0.2,figsize=(10,10), diagonal='hist')"
   ]
  },
  {
   "cell_type": "markdown",
   "metadata": {},
   "source": [
    "# Model selection\n",
    "\n",
    "As we are analyzing the data set to find the characterisitics/trends of different attributes, supervised learning approach is used to get the right analysis for each example in the data. We have to get the output as accurately as possible. A classification algorithm is required for the same.In this data set we are using two classifiers:\n",
    "\n",
    "*Logistic regression\n",
    "\n",
    "*Support vector classifier\n",
    "\n",
    "\n"
   ]
  },
  {
   "cell_type": "code",
   "execution_count": 18,
   "metadata": {
    "collapsed": false
   },
   "outputs": [
    {
     "name": "stdout",
     "output_type": "stream",
     "text": [
      " Index([u'Intercept', u'Length', u'Exclaim', u'Link', u'Has_large_number',\n",
      "       u'Uppercase_letters'],\n",
      "      dtype='object')\n",
      "      Intercept    Length   Exclaim  Link  Has_large_number  Uppercase_letters\n",
      "0           1.0  0.126652  0.000000   0.0               0.0           0.023256\n",
      "1           1.0  0.029736  0.000000   0.0               0.0           0.015504\n",
      "2           1.0  0.168502  0.000000   0.0               1.0           0.077519\n",
      "3           1.0  0.051762  0.000000   0.0               0.0           0.015504\n",
      "4           1.0  0.064978  0.000000   0.0               0.0           0.015504\n",
      "5           1.0  0.160793  0.181818   0.0               0.0           0.054264\n",
      "6           1.0  0.082599  0.000000   0.0               0.0           0.015504\n",
      "7           1.0  0.174009  0.000000   0.0               0.0           0.077519\n",
      "8           1.0  0.171806  0.272727   0.0               1.0           0.093023\n",
      "9           1.0  0.167401  0.090909   0.0               1.0           0.108527\n",
      "10          1.0  0.117841  0.000000   0.0               0.0           0.015504\n",
      "11          1.0  0.147577  0.090909   0.0               1.0           0.131783\n",
      "12          1.0  0.169604  0.181818   0.0               1.0           0.310078\n",
      "13          1.0  0.213656  0.000000   0.0               0.0           0.023256\n",
      "14          1.0  0.036344  0.181818   0.0               0.0           0.201550\n",
      "15          1.0  0.161894  0.000000   1.0               0.0           0.178295\n",
      "16          1.0  0.026432  0.000000   0.0               0.0           0.007752\n",
      "17          1.0  0.087004  0.000000   0.0               0.0           0.023256\n",
      "18          1.0  0.061674  0.000000   0.0               0.0           0.015504\n",
      "19          1.0  0.169604  0.000000   0.0               1.0           0.248062\n",
      "20          1.0  0.042952  0.000000   0.0               0.0           0.007752\n",
      "21          1.0  0.051762  0.000000   0.0               0.0           0.007752\n",
      "22          1.0  0.056167  0.000000   0.0               0.0           0.015504\n",
      "23          1.0  0.094714  0.000000   0.0               0.0           0.023256\n",
      "24          1.0  0.060573  0.000000   0.0               0.0           0.023256\n",
      "25          1.0  0.156388  0.000000   0.0               0.0           0.062016\n",
      "26          1.0  0.030837  0.000000   0.0               0.0           0.007752\n",
      "27          1.0  0.145374  0.000000   0.0               0.0           0.046512\n",
      "28          1.0  0.080396  0.000000   0.0               0.0           0.015504\n",
      "29          1.0  0.068282  0.090909   0.0               0.0           0.038760\n",
      "...         ...       ...       ...   ...               ...                ...\n",
      "5051        1.0  0.039648  0.000000   0.0               0.0           0.015504\n",
      "5052        1.0  0.048458  0.000000   0.0               0.0           0.015504\n",
      "5053        1.0  0.166300  0.181818   0.0               1.0           0.232558\n",
      "5054        1.0  0.029736  0.000000   0.0               0.0           0.007752\n",
      "5055        1.0  0.131057  0.000000   0.0               0.0           0.682171\n",
      "5056        1.0  0.034141  0.090909   0.0               0.0           0.007752\n",
      "5057        1.0  0.044053  0.000000   0.0               0.0           0.000000\n",
      "5058        1.0  0.095815  0.000000   0.0               0.0           0.023256\n",
      "5059        1.0  0.079295  0.000000   0.0               0.0           0.015504\n",
      "5060        1.0  0.146476  0.090909   0.0               1.0           0.131783\n",
      "5061        1.0  0.075991  0.000000   0.0               0.0           0.015504\n",
      "5062        1.0  0.047357  0.000000   0.0               0.0           0.007752\n",
      "5063        1.0  0.038546  0.000000   0.0               0.0           0.007752\n",
      "5064        1.0  0.147577  0.090909   0.0               1.0           0.131783\n",
      "5065        1.0  0.034141  0.000000   0.0               0.0           0.007752\n",
      "5066        1.0  0.057269  0.000000   0.0               0.0           0.015504\n",
      "5067        1.0  0.073789  0.000000   0.0               0.0           0.069767\n",
      "5068        1.0  0.045154  0.000000   0.0               0.0           0.007752\n",
      "5069        1.0  0.087004  0.000000   0.0               0.0           0.015504\n",
      "5070        1.0  0.056167  0.000000   0.0               0.0           0.007752\n",
      "5071        1.0  0.081498  0.000000   0.0               0.0           0.015504\n",
      "5072        1.0  0.022026  0.000000   0.0               0.0           0.007752\n",
      "5073        1.0  0.027533  0.000000   0.0               0.0           0.015504\n",
      "5074        1.0  0.117841  0.000000   0.0               0.0           0.007752\n",
      "5075        1.0  0.011013  0.000000   0.0               0.0           0.007752\n",
      "5076        1.0  0.046256  0.181818   0.0               0.0           0.007752\n",
      "5077        1.0  0.061674  0.181818   0.0               0.0           0.015504\n",
      "5078        1.0  0.003304  0.000000   0.0               0.0           0.007752\n",
      "5079        1.0  0.131057  0.000000   0.0               0.0           0.015504\n",
      "5080        1.0  0.165198  0.000000   0.0               0.0           0.069767\n",
      "\n",
      "[5081 rows x 6 columns]\n",
      "      Type\n",
      "0      0.0\n",
      "1      0.0\n",
      "2      1.0\n",
      "3      0.0\n",
      "4      0.0\n",
      "5      1.0\n",
      "6      0.0\n",
      "7      0.0\n",
      "8      1.0\n",
      "9      1.0\n",
      "10     0.0\n",
      "11     1.0\n",
      "12     1.0\n",
      "13     0.0\n",
      "14     0.0\n",
      "15     1.0\n",
      "16     0.0\n",
      "17     0.0\n",
      "18     0.0\n",
      "19     1.0\n",
      "20     0.0\n",
      "21     0.0\n",
      "22     0.0\n",
      "23     0.0\n",
      "24     0.0\n",
      "25     0.0\n",
      "26     0.0\n",
      "27     0.0\n",
      "28     0.0\n",
      "29     0.0\n",
      "...    ...\n",
      "5051   0.0\n",
      "5052   0.0\n",
      "5053   1.0\n",
      "5054   0.0\n",
      "5055   0.0\n",
      "5056   0.0\n",
      "5057   0.0\n",
      "5058   0.0\n",
      "5059   0.0\n",
      "5060   1.0\n",
      "5061   0.0\n",
      "5062   0.0\n",
      "5063   0.0\n",
      "5064   1.0\n",
      "5065   0.0\n",
      "5066   0.0\n",
      "5067   0.0\n",
      "5068   0.0\n",
      "5069   0.0\n",
      "5070   0.0\n",
      "5071   0.0\n",
      "5072   0.0\n",
      "5073   0.0\n",
      "5074   0.0\n",
      "5075   0.0\n",
      "5076   0.0\n",
      "5077   0.0\n",
      "5078   0.0\n",
      "5079   0.0\n",
      "5080   0.0\n",
      "\n",
      "[5081 rows x 1 columns]\n"
     ]
    }
   ],
   "source": [
    "\n",
    "y, X = dmatrices('Type ~ Length + Exclaim + Link + Has_large_number + Uppercase_letters',scaled_df, return_type=\"dataframe\")\n",
    "print X.columns\n",
    "print X\n",
    "print y"
   ]
  },
  {
   "cell_type": "code",
   "execution_count": 19,
   "metadata": {
    "collapsed": false
   },
   "outputs": [
    {
     "name": "stdout",
     "output_type": "stream",
     "text": [
      "[ 0.  0.  1. ...,  0.  0.  0.]\n"
     ]
    }
   ],
   "source": [
    "#Flatten y into a 1-D array\n",
    "y = np.ravel(y)\n",
    "print y\n"
   ]
  },
  {
   "cell_type": "markdown",
   "metadata": {},
   "source": [
    "# Logistic regression\n",
    "\n",
    "This classifier gives the probability whether a given input data related to a certain class. In this project we are using this classifier to find the probability of given text message being spam or ham."
   ]
  },
  {
   "cell_type": "code",
   "execution_count": 20,
   "metadata": {
    "collapsed": false
   },
   "outputs": [
    {
     "name": "stdout",
     "output_type": "stream",
     "text": [
      "Score: 0.972643180476\n"
     ]
    },
    {
     "data": {
      "text/html": [
       "<div>\n",
       "<table border=\"1\" class=\"dataframe\">\n",
       "  <thead>\n",
       "    <tr style=\"text-align: right;\">\n",
       "      <th></th>\n",
       "      <th>0</th>\n",
       "      <th>1</th>\n",
       "    </tr>\n",
       "  </thead>\n",
       "  <tbody>\n",
       "    <tr>\n",
       "      <th>0</th>\n",
       "      <td>Intercept</td>\n",
       "      <td>[-1.95163950989]</td>\n",
       "    </tr>\n",
       "    <tr>\n",
       "      <th>1</th>\n",
       "      <td>Length</td>\n",
       "      <td>[3.59688214579]</td>\n",
       "    </tr>\n",
       "    <tr>\n",
       "      <th>2</th>\n",
       "      <td>Exclaim</td>\n",
       "      <td>[1.62025465094]</td>\n",
       "    </tr>\n",
       "    <tr>\n",
       "      <th>3</th>\n",
       "      <td>Link</td>\n",
       "      <td>[3.82227931717]</td>\n",
       "    </tr>\n",
       "    <tr>\n",
       "      <th>4</th>\n",
       "      <td>Has_large_number</td>\n",
       "      <td>[6.79549027813]</td>\n",
       "    </tr>\n",
       "    <tr>\n",
       "      <th>5</th>\n",
       "      <td>Uppercase_letters</td>\n",
       "      <td>[2.37617472683]</td>\n",
       "    </tr>\n",
       "  </tbody>\n",
       "</table>\n",
       "</div>"
      ],
      "text/plain": [
       "                   0                 1\n",
       "0          Intercept  [-1.95163950989]\n",
       "1             Length   [3.59688214579]\n",
       "2            Exclaim   [1.62025465094]\n",
       "3               Link   [3.82227931717]\n",
       "4   Has_large_number   [6.79549027813]\n",
       "5  Uppercase_letters   [2.37617472683]"
      ]
     },
     "execution_count": 20,
     "metadata": {},
     "output_type": "execute_result"
    }
   ],
   "source": [
    "#Instantiate a logistic regression model, and fit with X and y\n",
    "model = LogisticRegression()\n",
    "model = model.fit(X, y)\n",
    "\n",
    "#Check the score on the training set\n",
    "print 'Score:',model.score(X, y)\n",
    "\n",
    "#Examine the coefficients\n",
    "pd.DataFrame(zip(X.columns, np.transpose(model.coef_)))"
   ]
  },
  {
   "cell_type": "markdown",
   "metadata": {},
   "source": [
    "Evaluating the performance of a model by training and testing on the same dataset can lead to overfitting.Hence below model evaluation is based on splitting the dataset into train and validation set. We have sampled a training set while holding out 40% of the data for testing (evaluating) our classifier."
   ]
  },
  {
   "cell_type": "code",
   "execution_count": 21,
   "metadata": {
    "collapsed": false
   },
   "outputs": [
    {
     "name": "stdout",
     "output_type": "stream",
     "text": [
      "Grid Scores : {'C': 10}\n",
      "Best Score :  0.970144356955\n",
      "Best Parameters : {'C': 10}\n",
      "Best Estimator : LogisticRegression(C=10, class_weight=None, dual=False, fit_intercept=True,\n",
      "          intercept_scaling=1, max_iter=100, multi_class='ovr', n_jobs=1,\n",
      "          penalty='l2', random_state=None, solver='liblinear', tol=0.0001,\n",
      "          verbose=0, warm_start=False)\n",
      "Accuracy Score : 0.97540580423\n",
      "Coefficients : [[-2.10994575  6.79373216  2.18488608  5.62367487  7.9842598   2.40144642]]\n",
      "Mean-squared error 0.156825367112\n"
     ]
    }
   ],
   "source": [
    "X_train, X_test,y_train,y_test = train_test_split(X,y,test_size = 0.4,random_state = 1234)\n",
    "from sklearn.grid_search import GridSearchCV\n",
    "from sklearn.linear_model import LogisticRegression\n",
    "from sklearn.metrics import accuracy_score\n",
    "\n",
    "logreg = LogisticRegression()\n",
    "param_grid = {'C': [0.001, 0.01, 0.1, 1, 10, 100] }\n",
    "grid = GridSearchCV(logreg,param_grid,cv = 3,scoring = 'accuracy')\n",
    "grid.fit(X_train,y_train)\n",
    "\n",
    "print 'Grid Scores :',(grid.best_params_)\n",
    "print'Best Score : ',(grid.best_score_)\n",
    "print 'Best Parameters :',(grid.best_params_)\n",
    "print'Best Estimator :',(grid.best_estimator_)\n",
    "\n",
    "C_best_score = grid.best_score_\n",
    "clf_best = LogisticRegression(C = C_best_score)\n",
    "clf_best.fit(X_train,y_train)\n",
    "print 'Accuracy Score :', accuracy_score(clf_best.predict(X_test),y_test)\n",
    "print 'Coefficients :',grid.best_estimator_.coef_ \n",
    "mse = mean_squared_error(y_test, clf_best.predict(X_test))\n",
    "rmse = np.sqrt(mse)\n",
    "print 'Mean-squared error', rmse"
   ]
  },
  {
   "cell_type": "code",
   "execution_count": 22,
   "metadata": {
    "collapsed": false
   },
   "outputs": [
    {
     "name": "stdout",
     "output_type": "stream",
     "text": [
      "Probability : [[ 0.  1.]]\n"
     ]
    },
    {
     "name": "stderr",
     "output_type": "stream",
     "text": [
      "C:\\Anaconda2\\lib\\site-packages\\sklearn\\utils\\validation.py:386: DeprecationWarning: Passing 1d arrays as data is deprecated in 0.17 and willraise ValueError in 0.19. Reshape your data either using X.reshape(-1, 1) if your data has a single feature or X.reshape(1, -1) if it contains a single sample.\n",
      "  DeprecationWarning)\n"
     ]
    }
   ],
   "source": [
    "#Predicting probability of random data set being spam or ham.\n",
    "print 'Probability :',grid.predict_proba([1,10,0,0,0,1])"
   ]
  },
  {
   "cell_type": "code",
   "execution_count": 23,
   "metadata": {
    "collapsed": false
   },
   "outputs": [
    {
     "name": "stdout",
     "output_type": "stream",
     "text": [
      "Classification Report \n",
      "             precision    recall  f1-score   support\n",
      "\n",
      "        0.0      0.976     0.997     0.986      1769\n",
      "        1.0      0.973     0.833     0.898       264\n",
      "\n",
      "avg / total      0.975     0.975     0.975      2033\n",
      "\n"
     ]
    }
   ],
   "source": [
    "#Classification report\n",
    "d = classification_report(y_test,clf_best.predict(X_test),digits=3)\n",
    "print 'Classification Report \\n',d\n"
   ]
  },
  {
   "cell_type": "code",
   "execution_count": 24,
   "metadata": {
    "collapsed": false
   },
   "outputs": [
    {
     "name": "stdout",
     "output_type": "stream",
     "text": [
      "Warning: Maximum number of iterations has been exceeded.\n",
      "         Current function value: 0.113600\n",
      "         Iterations: 35\n",
      "                           Logit Regression Results                           \n",
      "==============================================================================\n",
      "Dep. Variable:                      y   No. Observations:                 5081\n",
      "Model:                          Logit   Df Residuals:                     5075\n",
      "Method:                           MLE   Df Model:                            5\n",
      "Date:                Tue, 04 Oct 2016   Pseudo R-squ.:                  0.7138\n",
      "Time:                        18:30:55   Log-Likelihood:                -577.20\n",
      "converged:                      False   LL-Null:                       -2016.7\n",
      "                                        LLR p-value:                     0.000\n",
      "=====================================================================================\n",
      "                        coef    std err          z      P>|z|      [95.0% Conf. Int.]\n",
      "-------------------------------------------------------------------------------------\n",
      "Intercept            -4.2865      0.138    -31.002      0.000        -4.558    -4.016\n",
      "Length                5.8032      0.880      6.594      0.000         4.078     7.528\n",
      "Exclaim               2.4087      0.917      2.628      0.009         0.612     4.205\n",
      "Link                 22.7511   5348.253      0.004      0.997     -1.05e+04  1.05e+04\n",
      "Has_large_number      7.6763      0.459     16.712      0.000         6.776     8.577\n",
      "Uppercase_letters     2.4808      0.503      4.928      0.000         1.494     3.467\n",
      "=====================================================================================\n",
      "0.972643180476\n"
     ]
    },
    {
     "name": "stderr",
     "output_type": "stream",
     "text": [
      "C:\\Anaconda2\\lib\\site-packages\\statsmodels\\base\\model.py:466: ConvergenceWarning: Maximum Likelihood optimization failed to converge. Check mle_retvals\n",
      "  \"Check mle_retvals\", ConvergenceWarning)\n"
     ]
    }
   ],
   "source": [
    "#Applying statsmodels function to apply logistic regression\n",
    "\n",
    "logit = sm.Logit(y,X).fit()\n",
    "print(logit.summary())\n",
    "print(model.score(X, y))\n"
   ]
  },
  {
   "cell_type": "markdown",
   "metadata": {},
   "source": [
    "# Support Vector Classifer (SVC)\n",
    "\n",
    "The concept of this classifier is based on a decision plane which separates different goups in space.  In this project we are using this decision plane approach to differentiate spam messages from ham."
   ]
  },
  {
   "cell_type": "code",
   "execution_count": 25,
   "metadata": {
    "collapsed": false
   },
   "outputs": [],
   "source": [
    "#Applying SVM on dataset\n",
    "X1 = X\n",
    "y1 = y\n",
    "X1_train, X1_test,y1_train,y1_test = train_test_split(X1,y1,test_size = 0.2,random_state = 1234)"
   ]
  },
  {
   "cell_type": "code",
   "execution_count": 27,
   "metadata": {
    "collapsed": false
   },
   "outputs": [
    {
     "data": {
      "text/plain": [
       "SVC(C=1.0, cache_size=200, class_weight=None, coef0=0.0,\n",
       "  decision_function_shape=None, degree=3, gamma='auto', kernel='rbf',\n",
       "  max_iter=-1, probability=True, random_state=None, shrinking=True,\n",
       "  tol=0.001, verbose=False)"
      ]
     },
     "execution_count": 27,
     "metadata": {},
     "output_type": "execute_result"
    }
   ],
   "source": [
    "from sklearn.grid_search import GridSearchCV\n",
    "from sklearn import svm\n",
    "clf= svm.SVC(probability=True)\n",
    "clf.fit(X1_train, y1_train)"
   ]
  },
  {
   "cell_type": "code",
   "execution_count": 28,
   "metadata": {
    "collapsed": false
   },
   "outputs": [
    {
     "data": {
      "text/plain": [
       "GridSearchCV(cv=3, error_score='raise',\n",
       "       estimator=SVC(C=1.0, cache_size=200, class_weight=None, coef0=0.0,\n",
       "  decision_function_shape=None, degree=3, gamma='auto', kernel='rbf',\n",
       "  max_iter=-1, probability=True, random_state=None, shrinking=True,\n",
       "  tol=0.001, verbose=False),\n",
       "       fit_params={}, iid=True, n_jobs=1,\n",
       "       param_grid=[{'kernel': ['rbf'], 'C': [1, 10, 100, 1000], 'gamma': [0.001, 0.0001]}],\n",
       "       pre_dispatch='2*n_jobs', refit=True, scoring='accuracy', verbose=0)"
      ]
     },
     "execution_count": 28,
     "metadata": {},
     "output_type": "execute_result"
    }
   ],
   "source": [
    "param_grid = [{'C': [1, 10, 100, 1000], 'gamma': [0.001, 0.0001], 'kernel': ['rbf']},]\n",
    "grid = GridSearchCV(clf,param_grid,cv = 3,scoring = 'accuracy')\n",
    "grid.fit(X1_train,y1_train)"
   ]
  },
  {
   "cell_type": "code",
   "execution_count": 29,
   "metadata": {
    "collapsed": false,
    "scrolled": true
   },
   "outputs": [
    {
     "name": "stdout",
     "output_type": "stream",
     "text": [
      "GridSearchCV(cv=3, error_score='raise',\n",
      "       estimator=SVC(C=1.0, cache_size=200, class_weight=None, coef0=0.0,\n",
      "  decision_function_shape=None, degree=3, gamma='auto', kernel='rbf',\n",
      "  max_iter=-1, probability=True, random_state=None, shrinking=True,\n",
      "  tol=0.001, verbose=False),\n",
      "       fit_params={}, iid=True, n_jobs=1,\n",
      "       param_grid=[{'kernel': ['rbf'], 'C': [1, 10, 100, 1000], 'gamma': [0.001, 0.0001]}],\n",
      "       pre_dispatch='2*n_jobs', refit=True, scoring='accuracy', verbose=0)\n",
      "Best Score :  0.976389572061\n",
      "Best Parameters : {'kernel': 'rbf', 'C': 1000, 'gamma': 0.001}\n",
      "Best Estimator : SVC(C=1000, cache_size=200, class_weight=None, coef0=0.0,\n",
      "  decision_function_shape=None, degree=3, gamma=0.001, kernel='rbf',\n",
      "  max_iter=-1, probability=True, random_state=None, shrinking=True,\n",
      "  tol=0.001, verbose=False)\n",
      "[ 0.  1.  0. ...,  0.  0.  1.]\n",
      "[ 0.  1.  0. ...,  0.  0.  1.]\n",
      "svc - accuracy score: 0.979351032448\n",
      "Mean-squared error 0.14369748624\n"
     ]
    }
   ],
   "source": [
    "print grid.fit(X_test,y_test)\n",
    "print'Best Score : ',(grid.best_score_)\n",
    "print 'Best Parameters :',(grid.best_params_)\n",
    "print'Best Estimator :',(grid.best_estimator_)\n",
    "y1_pred = grid.predict(X1_test)\n",
    "print y1_pred\n",
    "print y1_test\n",
    "print 'svc - accuracy score:',accuracy_score(y1_test, y1_pred)\n",
    "mse = mean_squared_error(y1_test, y1_pred)\n",
    "rmse = np.sqrt(mse)\n",
    "print 'Mean-squared error', rmse"
   ]
  },
  {
   "cell_type": "code",
   "execution_count": 30,
   "metadata": {
    "collapsed": false
   },
   "outputs": [
    {
     "name": "stdout",
     "output_type": "stream",
     "text": [
      "[[ 0.98973358  0.01026642]]\n"
     ]
    },
    {
     "name": "stderr",
     "output_type": "stream",
     "text": [
      "C:\\Anaconda2\\lib\\site-packages\\sklearn\\utils\\validation.py:386: DeprecationWarning: Passing 1d arrays as data is deprecated in 0.17 and willraise ValueError in 0.19. Reshape your data either using X.reshape(-1, 1) if your data has a single feature or X.reshape(1, -1) if it contains a single sample.\n",
      "  DeprecationWarning)\n"
     ]
    }
   ],
   "source": [
    "#Predicting probability of given data set being spam or ham.\n",
    "k = grid.predict_proba([1,10,0,0,0,1])\n",
    "print k"
   ]
  },
  {
   "cell_type": "code",
   "execution_count": 31,
   "metadata": {
    "collapsed": false
   },
   "outputs": [
    {
     "name": "stdout",
     "output_type": "stream",
     "text": [
      "Classification Report \n",
      "             precision    recall  f1-score   support\n",
      "\n",
      "        0.0      0.979     0.998     0.988       896\n",
      "        1.0      0.981     0.843     0.907       121\n",
      "\n",
      "avg / total      0.979     0.979     0.979      1017\n",
      "\n"
     ]
    }
   ],
   "source": [
    "#Classification report\n",
    "\n",
    "d = classification_report(y1_test, y1_pred,digits=3)\n",
    "print 'Classification Report \\n',d\n"
   ]
  },
  {
   "cell_type": "markdown",
   "metadata": {},
   "source": [
    "# Result\n",
    "\n",
    "*The accuracy scores ranges between .971 and .979.\n",
    "\n",
    "*Mean squared error ranges between .143 and .167.\n",
    "\n",
    "*Precision score ranges between 0.976 and 0.979.\n",
    "\n",
    "*Recall score ranges between 0.975 and 0.979.\n",
    "\n",
    "*f1-score ranges between 0.975 and 0.979."
   ]
  },
  {
   "cell_type": "markdown",
   "metadata": {},
   "source": [
    "# Future steps\n",
    "\n",
    "Bag of words approach: In this project Bag of words approach will be added to get more clarity on the features of spam and ham messages."
   ]
  },
  {
   "cell_type": "code",
   "execution_count": null,
   "metadata": {
    "collapsed": true
   },
   "outputs": [],
   "source": []
  }
 ],
 "metadata": {
  "anaconda-cloud": {},
  "kernelspec": {
   "display_name": "Python [Root]",
   "language": "python",
   "name": "Python [Root]"
  },
  "language_info": {
   "codemirror_mode": {
    "name": "ipython",
    "version": 2
   },
   "file_extension": ".py",
   "mimetype": "text/x-python",
   "name": "python",
   "nbconvert_exporter": "python",
   "pygments_lexer": "ipython2",
   "version": "2.7.11"
  }
 },
 "nbformat": 4,
 "nbformat_minor": 0
}
