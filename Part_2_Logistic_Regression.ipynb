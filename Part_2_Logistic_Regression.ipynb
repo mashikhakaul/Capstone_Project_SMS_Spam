{
 "cells": [
  {
   "cell_type": "code",
   "execution_count": 24,
   "metadata": {
    "collapsed": true
   },
   "outputs": [],
   "source": [
    "import numpy as np\n",
    "import pandas as pd\n",
    "import statsmodels.api as sm\n",
    "import matplotlib.pyplot as plt\n",
    "from patsy import dmatrices\n",
    "from sklearn.linear_model import LogisticRegression\n",
    "from sklearn import svm\n",
    "\n",
    "#from sklearn import metrics\n"
   ]
  },
  {
   "cell_type": "code",
   "execution_count": 25,
   "metadata": {
    "collapsed": false
   },
   "outputs": [
    {
     "name": "stdout",
     "output_type": "stream",
     "text": [
      "      Unnamed: 0  Type                                            Message  \\\n",
      "0              0     0  @@.comGo until jurong point  crazy.. Available...   \n",
      "1              1     0                      Ok lar... Joking wif u oni...   \n",
      "2              2     1  Free entry in 2 a wkly comp to win FA Cup fina...   \n",
      "3              3     0  U dun say so early hor... U c already then say...   \n",
      "4              4     0  Nah I don't think he goes to usf  he lives aro...   \n",
      "5              5     1  FreeMsg Hey there darling it's been 3 week's n...   \n",
      "6              6     0  Even my brother is not like to speak with me. ...   \n",
      "7              7     0  As per your request 'Melle Melle (Oru Minnamin...   \n",
      "8              8     1  WINNER!! As a valued network customer you have...   \n",
      "9              9     1  Had your mobile 11 months or more? U R entitle...   \n",
      "10            10     0  I'm gonna be home soon and i don't want to tal...   \n",
      "11            11     1  SIX chances to win CASH! From 100 to 20 000 po...   \n",
      "12            12     1  URGENT! You have won a 1 week FREE membership ...   \n",
      "13            13     0  I've been searching for the right words to tha...   \n",
      "14            14     0                I HAVE A DATE ON SUNDAY WITH WILL!!   \n",
      "15            15     1  XXXMobileMovieClub: To use your credit  click ...   \n",
      "16            16     0                         Oh k...i'm watching here:)   \n",
      "17            17     0  Eh u remember how 2 spell his name... Yes i di...   \n",
      "18            18     0  Fine if thats the way u feel. Thats the way ...   \n",
      "19            19     1  England v Macedonia - dont miss the goals/team...   \n",
      "20            20     0          Is that seriously how you spell his name?   \n",
      "21            21     0    I‘m going to try for 2 months ha ha only joking   \n",
      "22            22     0  So ü pay first lar... Then when is da stock co...   \n",
      "23            23     0  Aft i finish my lunch then i go str down lor. ...   \n",
      "24            24     0  Ffffffffff. Alright no way I can meet up with ...   \n",
      "25            25     0  Just forced myself to eat a slice. I'm really ...   \n",
      "26            26     0                     Lol your always so convincing.   \n",
      "27            27     0  Did you catch the bus ? Are you frying an egg ...   \n",
      "28            28     0  I'm back &amp; we're packing the car now  I'll...   \n",
      "29            29     0  Ahhh. Work. I vaguely remember that! What does...   \n",
      "...          ...   ...                                                ...   \n",
      "5051        5051     0             Po de :-):):-):-):-). No need job aha.   \n",
      "5052        5052     0     Rats. Hey did u ever vote for the next themes?   \n",
      "5053        5053     1  New Mobiles from 2004  MUST GO! Txt: NOKIA to ...   \n",
      "5054        5054     0                      I hope your pee burns tonite.   \n",
      "5055        5055     0  OH RITE. WELL IM WITH MY BEST MATE PETE  WHO I...   \n",
      "5056        5056     0                  Yay can't wait to party together!   \n",
      "5057        5057     0         ....photoshop makes my computer shut down.   \n",
      "5058        5058     0  All boys made fun of me today. Ok i have no pr...   \n",
      "5059        5059     0  That's one of the issues but california is oka...   \n",
      "5060        5060     1  PRIVATE! Your 2003 Account Statement for shows...   \n",
      "5061        5061     0  Hmmm.... Mayb can try e shoppin area one  but ...   \n",
      "5062        5062     0      Awesome  that gonna be soon or later tonight?   \n",
      "5063        5063     0              I need details about that online job.   \n",
      "5064        5064     1  YOU HAVE WON! As a valued Vodafone customer ou...   \n",
      "5065        5065     0                  Missing you too.pray inshah allah   \n",
      "5066        5066     0  Pls help me tell Ashley that i cant find her n...   \n",
      "5067        5067     0  I am in escape theatre now. . Going to watch K...   \n",
      "5068        5068     0        S.this will increase the chance of winning.   \n",
      "5069        5069     0  either way works for me. I am  &lt;#&gt;  year...   \n",
      "5070        5070     0  Maybe you should find something else to do ins...   \n",
      "5071        5071     0  Gain the rights of a wife.dont demand it.i am ...   \n",
      "5072        5072     0                             I liked your new house   \n",
      "5073        5073     0                        I'm fine. Hope you are also   \n",
      "5074        5074     0  Also north carolina and texas atm  you would j...   \n",
      "5075        5075     0                                       Same to u...   \n",
      "5076        5076     0       yes baby! I need to stretch open your pussy!   \n",
      "5077        5077     0  Thanks  and ! Or bomb and date as my phone wan...   \n",
      "5078        5078     0                                              Ok...   \n",
      "5079        5079     0  Hey  a guy I know is breathing down my neck to...   \n",
      "5080        5080     0  Response is one of d powerful weapon 2 occupy ...   \n",
      "\n",
      "      Length  Exclaim  Link  Average_Numbers  Has 5-digit no.  \\\n",
      "0        117        0     0              NaN              NaN   \n",
      "1         29        0     0              NaN              NaN   \n",
      "2        155        0     0              4.0              NaN   \n",
      "3         49        0     0              NaN              NaN   \n",
      "4         61        0     0              NaN              NaN   \n",
      "5        148        2     0              NaN              NaN   \n",
      "6         77        0     0              NaN              NaN   \n",
      "7        160        0     0              NaN              NaN   \n",
      "8        158        3     0              4.0              NaN   \n",
      "9        154        1     0              6.0              NaN   \n",
      "10       109        0     0              NaN              NaN   \n",
      "11       136        1     0              3.0              NaN   \n",
      "12       156        2     0              3.0              NaN   \n",
      "13       196        0     0              NaN              NaN   \n",
      "14        35        2     0              NaN              NaN   \n",
      "15       149        0     1              NaN              NaN   \n",
      "16        26        0     0              NaN              NaN   \n",
      "17        81        0     0              NaN              NaN   \n",
      "18        58        0     0              NaN              NaN   \n",
      "19       156        0     0              4.0              NaN   \n",
      "20        41        0     0              NaN              NaN   \n",
      "21        49        0     0              NaN              NaN   \n",
      "22        53        0     0              NaN              NaN   \n",
      "23        88        0     0              NaN              NaN   \n",
      "24        57        0     0              NaN              NaN   \n",
      "25       144        0     0              NaN              NaN   \n",
      "26        30        0     0              NaN              NaN   \n",
      "27       134        0     0              NaN              NaN   \n",
      "28        75        0     0              NaN              NaN   \n",
      "29        64        1     0              NaN              NaN   \n",
      "...      ...      ...   ...              ...              ...   \n",
      "5051      38        0     0              NaN              NaN   \n",
      "5052      46        0     0              NaN              NaN   \n",
      "5053     153        2     0              6.0              NaN   \n",
      "5054      29        0     0              NaN              NaN   \n",
      "5055     121        0     0              NaN              NaN   \n",
      "5056      33        1     0              NaN              NaN   \n",
      "5057      42        0     0              NaN              NaN   \n",
      "5058      89        0     0              NaN              NaN   \n",
      "5059      74        0     0              NaN              NaN   \n",
      "5060     135        1     0              4.0              NaN   \n",
      "5061      71        0     0              NaN              NaN   \n",
      "5062      45        0     0              NaN              NaN   \n",
      "5063      37        0     0              NaN              NaN   \n",
      "5064     136        1     0              7.0              NaN   \n",
      "5065      33        0     0              NaN              NaN   \n",
      "5066      54        0     0              NaN              NaN   \n",
      "5067      69        0     0              NaN              NaN   \n",
      "5068      43        0     0              NaN              NaN   \n",
      "5069      81        0     0              NaN              NaN   \n",
      "5070      53        0     0              NaN              NaN   \n",
      "5071      76        0     0              NaN              NaN   \n",
      "5072      22        0     0              NaN              NaN   \n",
      "5073      27        0     0              NaN              NaN   \n",
      "5074     109        0     0              NaN              NaN   \n",
      "5075      12        0     0              NaN              NaN   \n",
      "5076      44        2     0              NaN              NaN   \n",
      "5077      58        2     0              NaN              NaN   \n",
      "5078       5        0     0              NaN              NaN   \n",
      "5079     121        0     0              NaN              NaN   \n",
      "5080     152        0     0              NaN              NaN   \n",
      "\n",
      "      Has 10-digit no.  Uppercase_letters  \n",
      "0                  NaN                  3  \n",
      "1                  NaN                  2  \n",
      "2                  NaN                 10  \n",
      "3                  NaN                  2  \n",
      "4                  NaN                  2  \n",
      "5                  NaN                  7  \n",
      "6                  NaN                  2  \n",
      "7                  NaN                 10  \n",
      "8                  NaN                 12  \n",
      "9                  NaN                 14  \n",
      "10                 NaN                  2  \n",
      "11                 NaN                 17  \n",
      "12                 NaN                 40  \n",
      "13                 NaN                  3  \n",
      "14                 NaN                 26  \n",
      "15                 NaN                 23  \n",
      "16                 NaN                  1  \n",
      "17                 NaN                  3  \n",
      "18                 NaN                  2  \n",
      "19                 NaN                 32  \n",
      "20                 NaN                  1  \n",
      "21                 NaN                  1  \n",
      "22                 NaN                  2  \n",
      "23                 NaN                  3  \n",
      "24                 NaN                  3  \n",
      "25                 NaN                  8  \n",
      "26                 NaN                  1  \n",
      "27                 NaN                  6  \n",
      "28                 NaN                  2  \n",
      "29                 NaN                  5  \n",
      "...                ...                ...  \n",
      "5051               NaN                  2  \n",
      "5052               NaN                  2  \n",
      "5053               NaN                 30  \n",
      "5054               NaN                  1  \n",
      "5055               NaN                 88  \n",
      "5056               NaN                  1  \n",
      "5057               NaN                  0  \n",
      "5058               NaN                  3  \n",
      "5059               NaN                  2  \n",
      "5060               NaN                 17  \n",
      "5061               NaN                  2  \n",
      "5062               NaN                  1  \n",
      "5063               NaN                  1  \n",
      "5064               NaN                 17  \n",
      "5065               NaN                  1  \n",
      "5066               NaN                  2  \n",
      "5067               NaN                  9  \n",
      "5068               NaN                  1  \n",
      "5069               NaN                  2  \n",
      "5070               NaN                  1  \n",
      "5071               NaN                  2  \n",
      "5072               NaN                  1  \n",
      "5073               NaN                  2  \n",
      "5074               NaN                  1  \n",
      "5075               NaN                  1  \n",
      "5076               NaN                  1  \n",
      "5077               NaN                  2  \n",
      "5078               NaN                  1  \n",
      "5079               NaN                  2  \n",
      "5080               NaN                  9  \n",
      "\n",
      "[5081 rows x 10 columns]\n",
      "       Unnamed: 0      Length   Exclaim      Link  Average_Numbers  \\\n",
      "Type                                                                 \n",
      "0     2544.234973   71.722222  0.178962  0.000000         2.714286   \n",
      "1     2513.004354  139.149492  0.734398  0.027576         4.728302   \n",
      "\n",
      "      Has 5-digit no.  Has 10-digit no.  Uppercase_letters  \n",
      "Type                                                        \n",
      "0                 NaN               NaN           4.102914  \n",
      "1                 NaN               NaN          15.477504  \n"
     ]
    }
   ],
   "source": [
    "#Loading data set\n",
    "data = pd.read_csv(\"SMS_Final_dataset.csv\")\n",
    "print data\n",
    "\n",
    "#Data Exploration\n",
    "\n",
    "print(data.groupby('Type').mean())"
   ]
  },
  {
   "cell_type": "code",
   "execution_count": 26,
   "metadata": {
    "collapsed": false
   },
   "outputs": [
    {
     "data": {
      "text/plain": [
       "<matplotlib.text.Text at 0xda38c50>"
      ]
     },
     "execution_count": 26,
     "metadata": {},
     "output_type": "execute_result"
    },
    {
     "data": {
      "image/png": "[encoded data removed]",
      "text/plain": [
       "<matplotlib.figure.Figure at 0xda24f98>"
      ]
     },
     "metadata": {},
     "output_type": "display_data"
    }
   ],
   "source": [
    "#Histogram presentation of length distribution\n",
    "%matplotlib inline\n",
    "data.Length.hist()\n",
    "plt.title('Length of message')\n",
    "plt.xlabel('Length of Message')\n",
    "plt.ylabel('Frequency')"
   ]
  },
  {
   "cell_type": "code",
   "execution_count": 28,
   "metadata": {
    "collapsed": false
   },
   "outputs": [
    {
     "data": {
      "text/plain": [
       "<matplotlib.text.Text at 0xc3c45f8>"
      ]
     },
     "execution_count": 28,
     "metadata": {},
     "output_type": "execute_result"
    },
    {
     "data": {
      "image/png": "[encoded data removed]",
      "text/plain": [
       "<matplotlib.figure.Figure at 0xd6096a0>"
      ]
     },
     "metadata": {},
     "output_type": "display_data"
    }
   ],
   "source": [
    "#Histogram presentation of exclamation marks in messages\n",
    "%matplotlib inline\n",
    "data.Exclaim.hist()\n",
    "plt.title('Exclaimation Marks')\n",
    "plt.xlabel('No. of Exclamation marks')\n",
    "plt.ylabel('Frequency')"
   ]
  },
  {
   "cell_type": "code",
   "execution_count": 29,
   "metadata": {
    "collapsed": false
   },
   "outputs": [
    {
     "data": {
      "text/plain": [
       "<matplotlib.text.Text at 0xde1d2b0>"
      ]
     },
     "execution_count": 29,
     "metadata": {},
     "output_type": "execute_result"
    },
    {
     "data": {
      "image/png": "[encoded data removed]",
      "text/plain": [
       "<matplotlib.figure.Figure at 0xd0f4f28>"
      ]
     },
     "metadata": {},
     "output_type": "display_data"
    }
   ],
   "source": [
    "#Histogram presentation of urls distribution\n",
    "%matplotlib inline\n",
    "data.Link.hist()\n",
    "plt.title('Urls in messages')\n",
    "plt.xlabel('Urls in message')\n",
    "plt.ylabel('Frequency')"
   ]
  },
  {
   "cell_type": "code",
   "execution_count": 30,
   "metadata": {
    "collapsed": false
   },
   "outputs": [
    {
     "data": {
      "text/plain": [
       "<matplotlib.text.Text at 0xe935c88>"
      ]
     },
     "execution_count": 30,
     "metadata": {},
     "output_type": "execute_result"
    },
    {
     "data": {
      "image/png": "[encoded data removed]",
      "text/plain": [
       "<matplotlib.figure.Figure at 0xda245c0>"
      ]
     },
     "metadata": {},
     "output_type": "display_data"
    }
   ],
   "source": [
    "#Histogram presentation of Average numbers per message\n",
    "%matplotlib inline\n",
    "data.Average_Numbers.hist()\n",
    "plt.title('Average numbers in a message')\n",
    "plt.xlabel('Average numbers in a message')\n",
    "plt.ylabel('Frequency')"
   ]
  },
  {
   "cell_type": "code",
   "execution_count": 31,
   "metadata": {
    "collapsed": false
   },
   "outputs": [
    {
     "data": {
      "text/plain": [
       "<matplotlib.text.Text at 0xeb8c748>"
      ]
     },
     "execution_count": 31,
     "metadata": {},
     "output_type": "execute_result"
    },
    {
     "data": {
      "image/png": "[encoded data removed]",
      "text/plain": [
       "<matplotlib.figure.Figure at 0xd704390>"
      ]
     },
     "metadata": {},
     "output_type": "display_data"
    }
   ],
   "source": [
    "#Histogram presentation of uppercase letters per message\n",
    "%matplotlib inline\n",
    "data.Uppercase_letters.hist()\n",
    "plt.title('Uppercase Letters in a message')\n",
    "plt.xlabel('Uppercase letters')\n",
    "plt.ylabel('Frequency')"
   ]
  },
  {
   "cell_type": "code",
   "execution_count": 32,
   "metadata": {
    "collapsed": false
   },
   "outputs": [
    {
     "name": "stdout",
     "output_type": "stream",
     "text": [
      "Index([u'Intercept', u'Length', u'Exclaim', u'Link', u'Average_Numbers',\n",
      "       u'Uppercase_letters'],\n",
      "      dtype='object')\n",
      "      Intercept  Length  Exclaim  Link  Average_Numbers  Uppercase_letters\n",
      "2           1.0   155.0      0.0   0.0              4.0               10.0\n",
      "8           1.0   158.0      3.0   0.0              4.0               12.0\n",
      "9           1.0   154.0      1.0   0.0              6.0               14.0\n",
      "11          1.0   136.0      1.0   0.0              3.0               17.0\n",
      "12          1.0   156.0      2.0   0.0              3.0               40.0\n",
      "19          1.0   156.0      0.0   0.0              4.0               32.0\n",
      "42          1.0   172.0      0.0   0.0             11.0                7.0\n",
      "56          1.0   161.0      4.0   0.0              6.0               12.0\n",
      "65          1.0   153.0      0.0   0.0              7.0                6.0\n",
      "67          1.0   161.0      0.0   0.0              3.0               24.0\n",
      "93          1.0   139.0      1.0   0.0              3.0                4.0\n",
      "95          1.0   158.0      0.0   0.0              3.0               18.0\n",
      "114         1.0   159.0      1.0   0.0              4.0               21.0\n",
      "117         1.0   153.0      0.0   0.0              6.0                2.0\n",
      "120         1.0   144.0      1.0   0.0              6.0               16.0\n",
      "121         1.0   157.0      2.0   0.0              4.0               25.0\n",
      "123         1.0   156.0      0.0   0.0              5.0                3.0\n",
      "134         1.0   126.0      1.0   0.0              4.0               14.0\n",
      "135         1.0   162.0      1.0   0.0              3.0               16.0\n",
      "160         1.0   146.0      0.0   0.0              8.0                2.0\n",
      "164         1.0   152.0      0.0   0.0              3.0               31.0\n",
      "167         1.0   157.0      1.0   0.0              4.0               22.0\n",
      "188         1.0   149.0      1.0   0.0              3.0               13.0\n",
      "225         1.0   143.0      2.0   0.0              5.0               20.0\n",
      "235         1.0   157.0      0.0   0.0              2.0               17.0\n",
      "240         1.0   145.0      0.0   0.0             11.0                5.0\n",
      "250         1.0   150.0      0.0   0.0              3.0               12.0\n",
      "259         1.0   154.0      0.0   0.0              7.0               21.0\n",
      "264         1.0   121.0      0.0   0.0              4.0                2.0\n",
      "268         1.0   159.0      3.0   0.0              3.0               20.0\n",
      "...         ...     ...      ...   ...              ...                ...\n",
      "4790        1.0   156.0      1.0   0.0              3.0               26.0\n",
      "4793        1.0   144.0      2.0   0.0              5.0               24.0\n",
      "4796        1.0   115.0      0.0   0.0              3.0                9.0\n",
      "4798        1.0   152.0      1.0   0.0              4.0               18.0\n",
      "4803        1.0   127.0      0.0   0.0              5.0               10.0\n",
      "4805        1.0   158.0      0.0   0.0             13.0                7.0\n",
      "4806        1.0   159.0      0.0   0.0              5.0               13.0\n",
      "4811        1.0   156.0      3.0   0.0              4.0               32.0\n",
      "4821        1.0   144.0      1.0   0.0              3.0               13.0\n",
      "4847        1.0   139.0      1.0   0.0              3.0                4.0\n",
      "4848        1.0   166.0      0.0   0.0              5.0                3.0\n",
      "4866        1.0   155.0      0.0   0.0              7.0                9.0\n",
      "4871        1.0   158.0      1.0   0.0              5.0               28.0\n",
      "4877        1.0   136.0      1.0   0.0              4.0               17.0\n",
      "4892        1.0   152.0      0.0   0.0              9.0                3.0\n",
      "4897        1.0    36.0      0.0   0.0              3.0                3.0\n",
      "4915        1.0   155.0      3.0   0.0              4.0               22.0\n",
      "4965        1.0   106.0      1.0   0.0              6.0                7.0\n",
      "4978        1.0   144.0      1.0   0.0              4.0               21.0\n",
      "4979        1.0   139.0      0.0   0.0              4.0                9.0\n",
      "4981        1.0    93.0      0.0   0.0              3.0                2.0\n",
      "4987        1.0    89.0      0.0   0.0              6.0                8.0\n",
      "5005        1.0   147.0      0.0   0.0              4.0               19.0\n",
      "5016        1.0   136.0      0.0   0.0              7.0               26.0\n",
      "5017        1.0   158.0      1.0   0.0              5.0                9.0\n",
      "5027        1.0   153.0      1.0   0.0              5.0               16.0\n",
      "5042        1.0   152.0      0.0   0.0              6.0                1.0\n",
      "5053        1.0   153.0      2.0   0.0              6.0               30.0\n",
      "5060        1.0   135.0      1.0   0.0              4.0               17.0\n",
      "5064        1.0   136.0      1.0   0.0              7.0               17.0\n",
      "\n",
      "[551 rows x 6 columns]\n",
      "      Type\n",
      "2      1.0\n",
      "8      1.0\n",
      "9      1.0\n",
      "11     1.0\n",
      "12     1.0\n",
      "19     1.0\n",
      "42     1.0\n",
      "56     1.0\n",
      "65     1.0\n",
      "67     1.0\n",
      "93     1.0\n",
      "95     1.0\n",
      "114    1.0\n",
      "117    1.0\n",
      "120    1.0\n",
      "121    1.0\n",
      "123    1.0\n",
      "134    1.0\n",
      "135    1.0\n",
      "160    1.0\n",
      "164    1.0\n",
      "167    1.0\n",
      "188    1.0\n",
      "225    1.0\n",
      "235    1.0\n",
      "240    1.0\n",
      "250    1.0\n",
      "259    1.0\n",
      "264    1.0\n",
      "268    1.0\n",
      "...    ...\n",
      "4790   1.0\n",
      "4793   1.0\n",
      "4796   1.0\n",
      "4798   1.0\n",
      "4803   1.0\n",
      "4805   1.0\n",
      "4806   1.0\n",
      "4811   1.0\n",
      "4821   1.0\n",
      "4847   1.0\n",
      "4848   1.0\n",
      "4866   1.0\n",
      "4871   1.0\n",
      "4877   1.0\n",
      "4892   1.0\n",
      "4897   0.0\n",
      "4915   1.0\n",
      "4965   1.0\n",
      "4978   1.0\n",
      "4979   1.0\n",
      "4981   0.0\n",
      "4987   1.0\n",
      "5005   1.0\n",
      "5016   1.0\n",
      "5017   1.0\n",
      "5027   1.0\n",
      "5042   1.0\n",
      "5053   1.0\n",
      "5060   1.0\n",
      "5064   1.0\n",
      "\n",
      "[551 rows x 1 columns]\n"
     ]
    }
   ],
   "source": [
    "#prepare\n",
    "y, X = dmatrices('Type ~ Length + Exclaim + Link + Average_Numbers + Uppercase_letters',data, return_type=\"dataframe\")\n",
    "print X.columns\n",
    "print X\n",
    "print y"
   ]
  },
  {
   "cell_type": "code",
   "execution_count": 33,
   "metadata": {
    "collapsed": false
   },
   "outputs": [],
   "source": [
    "#Flatten y into a 1-D array\n",
    "y = np.ravel(y)\n",
    "#print y\n"
   ]
  },
  {
   "cell_type": "code",
   "execution_count": 34,
   "metadata": {
    "collapsed": false
   },
   "outputs": [
    {
     "data": {
      "text/plain": [
       "0.96551724137931039"
      ]
     },
     "execution_count": 34,
     "metadata": {},
     "output_type": "execute_result"
    }
   ],
   "source": [
    "#Instantiate a logistic regression model, and fit with X and y\n",
    "model = LogisticRegression(fit_intercept = False)\n",
    "model = model.fit(X, y)\n",
    "\n",
    "#Check the accuracy on the training set\n",
    "model.score(X, y)"
   ]
  },
  {
   "cell_type": "code",
   "execution_count": 35,
   "metadata": {
    "collapsed": false
   },
   "outputs": [
    {
     "data": {
      "text/html": [
       "<div>\n",
       "<table border=\"1\" class=\"dataframe\">\n",
       "  <thead>\n",
       "    <tr style=\"text-align: right;\">\n",
       "      <th></th>\n",
       "      <th>0</th>\n",
       "      <th>1</th>\n",
       "    </tr>\n",
       "  </thead>\n",
       "  <tbody>\n",
       "    <tr>\n",
       "      <th>0</th>\n",
       "      <td>Intercept</td>\n",
       "      <td>[-2.79594523187]</td>\n",
       "    </tr>\n",
       "    <tr>\n",
       "      <th>1</th>\n",
       "      <td>Length</td>\n",
       "      <td>[0.00959848806869]</td>\n",
       "    </tr>\n",
       "    <tr>\n",
       "      <th>2</th>\n",
       "      <td>Exclaim</td>\n",
       "      <td>[0.258010197391]</td>\n",
       "    </tr>\n",
       "    <tr>\n",
       "      <th>3</th>\n",
       "      <td>Link</td>\n",
       "      <td>[0.31545699325]</td>\n",
       "    </tr>\n",
       "    <tr>\n",
       "      <th>4</th>\n",
       "      <td>Average_Numbers</td>\n",
       "      <td>[0.811520440996]</td>\n",
       "    </tr>\n",
       "    <tr>\n",
       "      <th>5</th>\n",
       "      <td>Uppercase_letters</td>\n",
       "      <td>[0.156690936254]</td>\n",
       "    </tr>\n",
       "  </tbody>\n",
       "</table>\n",
       "</div>"
      ],
      "text/plain": [
       "                   0                   1\n",
       "0          Intercept    [-2.79594523187]\n",
       "1             Length  [0.00959848806869]\n",
       "2            Exclaim    [0.258010197391]\n",
       "3               Link     [0.31545699325]\n",
       "4    Average_Numbers    [0.811520440996]\n",
       "5  Uppercase_letters    [0.156690936254]"
      ]
     },
     "execution_count": 35,
     "metadata": {},
     "output_type": "execute_result"
    }
   ],
   "source": [
    "#Examine the coefficients\n",
    "pd.DataFrame(zip(X.columns, np.transpose(model.coef_)))"
   ]
  },
  {
   "cell_type": "code",
   "execution_count": 36,
   "metadata": {
    "collapsed": false
   },
   "outputs": [
    {
     "name": "stderr",
     "output_type": "stream",
     "text": [
      "C:\\Anaconda2\\lib\\site-packages\\sklearn\\utils\\validation.py:386: DeprecationWarning: Passing 1d arrays as data is deprecated in 0.17 and willraise ValueError in 0.19. Reshape your data either using X.reshape(-1, 1) if your data has a single feature or X.reshape(1, -1) if it contains a single sample.\n",
      "  DeprecationWarning)\n"
     ]
    },
    {
     "data": {
      "text/plain": [
       "array([[ 0.0715547,  0.9284453]])"
      ]
     },
     "execution_count": 36,
     "metadata": {},
     "output_type": "execute_result"
    }
   ],
   "source": [
    "#Predicting probability of any mesage to be a spam/ham.\n",
    "model.predict_proba(np.array([1,51, 7, 1, 3,2]))"
   ]
  },
  {
   "cell_type": "code",
   "execution_count": 37,
   "metadata": {
    "collapsed": false
   },
   "outputs": [
    {
     "name": "stdout",
     "output_type": "stream",
     "text": [
      "Warning: Maximum number of iterations has been exceeded.\n",
      "         Current function value: 0.070980\n",
      "         Iterations: 35\n",
      "                           Logit Regression Results                           \n",
      "==============================================================================\n",
      "Dep. Variable:                      y   No. Observations:                  551\n",
      "Model:                          Logit   Df Residuals:                      545\n",
      "Method:                           MLE   Df Model:                            5\n",
      "Date:                Mon, 19 Sep 2016   Pseudo R-squ.:                  0.5616\n",
      "Time:                        15:57:07   Log-Likelihood:                -39.110\n",
      "converged:                      False   LL-Null:                       -89.206\n",
      "                                        LLR p-value:                 4.814e-20\n",
      "=====================================================================================\n",
      "                        coef    std err          z      P>|z|      [95.0% Conf. Int.]\n",
      "-------------------------------------------------------------------------------------\n",
      "Intercept            -7.4420      1.609     -4.627      0.000       -10.595    -4.289\n",
      "Length                0.0222      0.008      2.702      0.007         0.006     0.038\n",
      "Exclaim               0.4313      0.367      1.174      0.240        -0.289     1.151\n",
      "Link                 23.3870   1.24e+05      0.000      1.000     -2.43e+05  2.43e+05\n",
      "Average_Numbers       1.7474      0.414      4.220      0.000         0.936     2.559\n",
      "Uppercase_letters     0.1642      0.061      2.685      0.007         0.044     0.284\n",
      "=====================================================================================\n",
      "0.965517241379\n"
     ]
    },
    {
     "name": "stderr",
     "output_type": "stream",
     "text": [
      "C:\\Anaconda2\\lib\\site-packages\\statsmodels\\base\\model.py:466: ConvergenceWarning: Maximum Likelihood optimization failed to converge. Check mle_retvals\n",
      "  \"Check mle_retvals\", ConvergenceWarning)\n"
     ]
    }
   ],
   "source": [
    "#Applying statesmodel to find logistic regression\n",
    "\n",
    "logit = sm.Logit(y,X).fit()\n",
    "print(logit.summary())\n",
    "print(model.score(X, y))\n"
   ]
  },
  {
   "cell_type": "code",
   "execution_count": null,
   "metadata": {
    "collapsed": true
   },
   "outputs": [],
   "source": []
  }
 ],
 "metadata": {
  "kernelspec": {
   "display_name": "Python [Root]",
   "language": "python",
   "name": "Python [Root]"
  },
  "language_info": {
   "codemirror_mode": {
    "name": "ipython",
    "version": 2
   },
   "file_extension": ".py",
   "mimetype": "text/x-python",
   "name": "python",
   "nbconvert_exporter": "python",
   "pygments_lexer": "ipython2",
   "version": "2.7.11"
  }
 },
 "nbformat": 4,
 "nbformat_minor": 0
}
